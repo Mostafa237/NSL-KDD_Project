{
  "nbformat": 4,
  "nbformat_minor": 0,
  "metadata": {
    "colab": {
      "name": "Untitled2.ipynb",
      "provenance": []
    },
    "kernelspec": {
      "name": "python3",
      "display_name": "Python 3"
    },
    "language_info": {
      "name": "python"
    },
    "accelerator": "GPU"
  },
  "cells": [
    {
      "cell_type": "code",
      "execution_count": 2,
      "metadata": {
        "colab": {
          "resources": {
            "http://localhost:8080/nbextensions/google.colab/files.js": {
              "data": "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",
              "ok": true,
              "headers": [
                [
                  "content-type",
                  "application/javascript"
                ]
              ],
              "status": 200,
              "status_text": ""
            }
          },
          "base_uri": "https://localhost:8080/",
          "height": 74
        },
        "id": "Q2rCc6HNYP1A",
        "outputId": "7647c157-03d2-48c8-a75c-1603d4f62eff"
      },
      "outputs": [
        {
          "output_type": "display_data",
          "data": {
            "text/plain": [
              "<IPython.core.display.HTML object>"
            ],
            "text/html": [
              "\n",
              "     <input type=\"file\" id=\"files-020f072b-1041-4010-8ff0-435e56c7a796\" name=\"files[]\" multiple disabled\n",
              "        style=\"border:none\" />\n",
              "     <output id=\"result-020f072b-1041-4010-8ff0-435e56c7a796\">\n",
              "      Upload widget is only available when the cell has been executed in the\n",
              "      current browser session. Please rerun this cell to enable.\n",
              "      </output>\n",
              "      <script src=\"/nbextensions/google.colab/files.js\"></script> "
            ]
          },
          "metadata": {}
        },
        {
          "output_type": "stream",
          "name": "stdout",
          "text": [
            "Saving kaggle.json to kaggle.json\n"
          ]
        }
      ],
      "source": [
        "from google.colab import files\n",
        "files.upload()\n",
        "\n",
        "!pip install -q kaggle\n",
        "\n",
        "!mkdir -p ~/.kaggle\n",
        "!cp kaggle.json ~/.kaggle/\n",
        "\n",
        "# This permissions change avoids a warning on Kaggle tool startup.\n",
        "!chmod 600 ~/.kaggle/kaggle.json"
      ]
    },
    {
      "cell_type": "code",
      "source": [
        "!kaggle datasets download -d bharath5673/kddcup99data"
      ],
      "metadata": {
        "colab": {
          "base_uri": "https://localhost:8080/"
        },
        "id": "G5FyoZnnYmyd",
        "outputId": "cd202aaa-dc02-48da-c0aa-885648efe0a4"
      },
      "execution_count": 3,
      "outputs": [
        {
          "output_type": "stream",
          "name": "stdout",
          "text": [
            "Downloading kddcup99data.zip to /content\n",
            "\r  0% 0.00/18.2M [00:00<?, ?B/s]\r 49% 9.00M/18.2M [00:00<00:00, 48.9MB/s]\n",
            "\r100% 18.2M/18.2M [00:00<00:00, 83.4MB/s]\n"
          ]
        }
      ]
    },
    {
      "cell_type": "code",
      "source": [
        "from zipfile import ZipFile\n",
        "file_name='/content/kddcup99data.zip'\n",
        "with ZipFile(file_name,'r') as zip:\n",
        "  zip.extractall()"
      ],
      "metadata": {
        "id": "o-b312RaYp5t"
      },
      "execution_count": 4,
      "outputs": []
    },
    {
      "cell_type": "code",
      "source": [
        "from __future__ import print_function\n",
        "import numpy as np\n",
        "np.random.seed(1337)  # for reproducibility\n",
        "from keras.preprocessing import sequence\n",
        "from keras.models import Sequential\n",
        "from keras.layers import Dense, Dropout, Activation, Lambda\n",
        "from keras.layers import Embedding\n",
        "from keras.layers import Convolution1D,MaxPooling1D, Flatten\n",
        "from keras.datasets import imdb\n",
        "from keras import backend as K\n",
        "from sklearn.model_selection import train_test_split\n",
        "import pandas as pd\n",
        "from keras.utils.np_utils import to_categorical\n",
        "from sklearn.preprocessing import Normalizer\n",
        "from keras.models import Sequential\n",
        "from keras.layers import Convolution1D, Dense, Dropout, Flatten, MaxPooling1D\n",
        "from keras.utils import np_utils\n",
        "import numpy as np\n",
        "import h5py\n",
        "from keras import callbacks\n",
        "from keras.layers import LSTM, GRU, SimpleRNN\n",
        "from keras.callbacks import CSVLogger\n",
        "from keras.callbacks import ModelCheckpoint, EarlyStopping, ReduceLROnPlateau, CSVLogger\n",
        "from sklearn.preprocessing import LabelEncoder\n",
        "import matplotlib.pyplot as plt"
      ],
      "metadata": {
        "id": "28B3e6vIaRZ3"
      },
      "execution_count": 5,
      "outputs": []
    },
    {
      "cell_type": "code",
      "source": [
        "data = pd.read_csv('/content/kddcup.data')\n",
        "data.head()"
      ],
      "metadata": {
        "colab": {
          "base_uri": "https://localhost:8080/",
          "height": 235
        },
        "id": "u_n9IsIRYtic",
        "outputId": "d031de14-9206-4463-d802-5aeec77e5657"
      },
      "execution_count": 6,
      "outputs": [
        {
          "output_type": "execute_result",
          "data": {
            "text/plain": [
              "   0  tcp  http  SF  215  45076  0.1  0.2  0.3  0.4  ...  0.17  0.00.6  \\\n",
              "0  0  tcp  http  SF  162   4528    0    0    0    0  ...     1     1.0   \n",
              "1  0  tcp  http  SF  236   1228    0    0    0    0  ...     2     1.0   \n",
              "2  0  tcp  http  SF  233   2032    0    0    0    0  ...     3     1.0   \n",
              "3  0  tcp  http  SF  239    486    0    0    0    0  ...     4     1.0   \n",
              "4  0  tcp  http  SF  238   1282    0    0    0    0  ...     5     1.0   \n",
              "\n",
              "   0.00.7  0.00.8  0.00.9  0.00.10  0.00.11  0.00.12  0.00.13  normal.  \n",
              "0     0.0    1.00     0.0      0.0      0.0      0.0      0.0  normal.  \n",
              "1     0.0    0.50     0.0      0.0      0.0      0.0      0.0  normal.  \n",
              "2     0.0    0.33     0.0      0.0      0.0      0.0      0.0  normal.  \n",
              "3     0.0    0.25     0.0      0.0      0.0      0.0      0.0  normal.  \n",
              "4     0.0    0.20     0.0      0.0      0.0      0.0      0.0  normal.  \n",
              "\n",
              "[5 rows x 42 columns]"
            ],
            "text/html": [
              "\n",
              "  <div id=\"df-5de4c698-50bd-4e02-a823-1d85717d448a\">\n",
              "    <div class=\"colab-df-container\">\n",
              "      <div>\n",
              "<style scoped>\n",
              "    .dataframe tbody tr th:only-of-type {\n",
              "        vertical-align: middle;\n",
              "    }\n",
              "\n",
              "    .dataframe tbody tr th {\n",
              "        vertical-align: top;\n",
              "    }\n",
              "\n",
              "    .dataframe thead th {\n",
              "        text-align: right;\n",
              "    }\n",
              "</style>\n",
              "<table border=\"1\" class=\"dataframe\">\n",
              "  <thead>\n",
              "    <tr style=\"text-align: right;\">\n",
              "      <th></th>\n",
              "      <th>0</th>\n",
              "      <th>tcp</th>\n",
              "      <th>http</th>\n",
              "      <th>SF</th>\n",
              "      <th>215</th>\n",
              "      <th>45076</th>\n",
              "      <th>0.1</th>\n",
              "      <th>0.2</th>\n",
              "      <th>0.3</th>\n",
              "      <th>0.4</th>\n",
              "      <th>...</th>\n",
              "      <th>0.17</th>\n",
              "      <th>0.00.6</th>\n",
              "      <th>0.00.7</th>\n",
              "      <th>0.00.8</th>\n",
              "      <th>0.00.9</th>\n",
              "      <th>0.00.10</th>\n",
              "      <th>0.00.11</th>\n",
              "      <th>0.00.12</th>\n",
              "      <th>0.00.13</th>\n",
              "      <th>normal.</th>\n",
              "    </tr>\n",
              "  </thead>\n",
              "  <tbody>\n",
              "    <tr>\n",
              "      <th>0</th>\n",
              "      <td>0</td>\n",
              "      <td>tcp</td>\n",
              "      <td>http</td>\n",
              "      <td>SF</td>\n",
              "      <td>162</td>\n",
              "      <td>4528</td>\n",
              "      <td>0</td>\n",
              "      <td>0</td>\n",
              "      <td>0</td>\n",
              "      <td>0</td>\n",
              "      <td>...</td>\n",
              "      <td>1</td>\n",
              "      <td>1.0</td>\n",
              "      <td>0.0</td>\n",
              "      <td>1.00</td>\n",
              "      <td>0.0</td>\n",
              "      <td>0.0</td>\n",
              "      <td>0.0</td>\n",
              "      <td>0.0</td>\n",
              "      <td>0.0</td>\n",
              "      <td>normal.</td>\n",
              "    </tr>\n",
              "    <tr>\n",
              "      <th>1</th>\n",
              "      <td>0</td>\n",
              "      <td>tcp</td>\n",
              "      <td>http</td>\n",
              "      <td>SF</td>\n",
              "      <td>236</td>\n",
              "      <td>1228</td>\n",
              "      <td>0</td>\n",
              "      <td>0</td>\n",
              "      <td>0</td>\n",
              "      <td>0</td>\n",
              "      <td>...</td>\n",
              "      <td>2</td>\n",
              "      <td>1.0</td>\n",
              "      <td>0.0</td>\n",
              "      <td>0.50</td>\n",
              "      <td>0.0</td>\n",
              "      <td>0.0</td>\n",
              "      <td>0.0</td>\n",
              "      <td>0.0</td>\n",
              "      <td>0.0</td>\n",
              "      <td>normal.</td>\n",
              "    </tr>\n",
              "    <tr>\n",
              "      <th>2</th>\n",
              "      <td>0</td>\n",
              "      <td>tcp</td>\n",
              "      <td>http</td>\n",
              "      <td>SF</td>\n",
              "      <td>233</td>\n",
              "      <td>2032</td>\n",
              "      <td>0</td>\n",
              "      <td>0</td>\n",
              "      <td>0</td>\n",
              "      <td>0</td>\n",
              "      <td>...</td>\n",
              "      <td>3</td>\n",
              "      <td>1.0</td>\n",
              "      <td>0.0</td>\n",
              "      <td>0.33</td>\n",
              "      <td>0.0</td>\n",
              "      <td>0.0</td>\n",
              "      <td>0.0</td>\n",
              "      <td>0.0</td>\n",
              "      <td>0.0</td>\n",
              "      <td>normal.</td>\n",
              "    </tr>\n",
              "    <tr>\n",
              "      <th>3</th>\n",
              "      <td>0</td>\n",
              "      <td>tcp</td>\n",
              "      <td>http</td>\n",
              "      <td>SF</td>\n",
              "      <td>239</td>\n",
              "      <td>486</td>\n",
              "      <td>0</td>\n",
              "      <td>0</td>\n",
              "      <td>0</td>\n",
              "      <td>0</td>\n",
              "      <td>...</td>\n",
              "      <td>4</td>\n",
              "      <td>1.0</td>\n",
              "      <td>0.0</td>\n",
              "      <td>0.25</td>\n",
              "      <td>0.0</td>\n",
              "      <td>0.0</td>\n",
              "      <td>0.0</td>\n",
              "      <td>0.0</td>\n",
              "      <td>0.0</td>\n",
              "      <td>normal.</td>\n",
              "    </tr>\n",
              "    <tr>\n",
              "      <th>4</th>\n",
              "      <td>0</td>\n",
              "      <td>tcp</td>\n",
              "      <td>http</td>\n",
              "      <td>SF</td>\n",
              "      <td>238</td>\n",
              "      <td>1282</td>\n",
              "      <td>0</td>\n",
              "      <td>0</td>\n",
              "      <td>0</td>\n",
              "      <td>0</td>\n",
              "      <td>...</td>\n",
              "      <td>5</td>\n",
              "      <td>1.0</td>\n",
              "      <td>0.0</td>\n",
              "      <td>0.20</td>\n",
              "      <td>0.0</td>\n",
              "      <td>0.0</td>\n",
              "      <td>0.0</td>\n",
              "      <td>0.0</td>\n",
              "      <td>0.0</td>\n",
              "      <td>normal.</td>\n",
              "    </tr>\n",
              "  </tbody>\n",
              "</table>\n",
              "<p>5 rows × 42 columns</p>\n",
              "</div>\n",
              "      <button class=\"colab-df-convert\" onclick=\"convertToInteractive('df-5de4c698-50bd-4e02-a823-1d85717d448a')\"\n",
              "              title=\"Convert this dataframe to an interactive table.\"\n",
              "              style=\"display:none;\">\n",
              "        \n",
              "  <svg xmlns=\"http://www.w3.org/2000/svg\" height=\"24px\"viewBox=\"0 0 24 24\"\n",
              "       width=\"24px\">\n",
              "    <path d=\"M0 0h24v24H0V0z\" fill=\"none\"/>\n",
              "    <path d=\"M18.56 5.44l.94 2.06.94-2.06 2.06-.94-2.06-.94-.94-2.06-.94 2.06-2.06.94zm-11 1L8.5 8.5l.94-2.06 2.06-.94-2.06-.94L8.5 2.5l-.94 2.06-2.06.94zm10 10l.94 2.06.94-2.06 2.06-.94-2.06-.94-.94-2.06-.94 2.06-2.06.94z\"/><path d=\"M17.41 7.96l-1.37-1.37c-.4-.4-.92-.59-1.43-.59-.52 0-1.04.2-1.43.59L10.3 9.45l-7.72 7.72c-.78.78-.78 2.05 0 2.83L4 21.41c.39.39.9.59 1.41.59.51 0 1.02-.2 1.41-.59l7.78-7.78 2.81-2.81c.8-.78.8-2.07 0-2.86zM5.41 20L4 18.59l7.72-7.72 1.47 1.35L5.41 20z\"/>\n",
              "  </svg>\n",
              "      </button>\n",
              "      \n",
              "  <style>\n",
              "    .colab-df-container {\n",
              "      display:flex;\n",
              "      flex-wrap:wrap;\n",
              "      gap: 12px;\n",
              "    }\n",
              "\n",
              "    .colab-df-convert {\n",
              "      background-color: #E8F0FE;\n",
              "      border: none;\n",
              "      border-radius: 50%;\n",
              "      cursor: pointer;\n",
              "      display: none;\n",
              "      fill: #1967D2;\n",
              "      height: 32px;\n",
              "      padding: 0 0 0 0;\n",
              "      width: 32px;\n",
              "    }\n",
              "\n",
              "    .colab-df-convert:hover {\n",
              "      background-color: #E2EBFA;\n",
              "      box-shadow: 0px 1px 2px rgba(60, 64, 67, 0.3), 0px 1px 3px 1px rgba(60, 64, 67, 0.15);\n",
              "      fill: #174EA6;\n",
              "    }\n",
              "\n",
              "    [theme=dark] .colab-df-convert {\n",
              "      background-color: #3B4455;\n",
              "      fill: #D2E3FC;\n",
              "    }\n",
              "\n",
              "    [theme=dark] .colab-df-convert:hover {\n",
              "      background-color: #434B5C;\n",
              "      box-shadow: 0px 1px 3px 1px rgba(0, 0, 0, 0.15);\n",
              "      filter: drop-shadow(0px 1px 2px rgba(0, 0, 0, 0.3));\n",
              "      fill: #FFFFFF;\n",
              "    }\n",
              "  </style>\n",
              "\n",
              "      <script>\n",
              "        const buttonEl =\n",
              "          document.querySelector('#df-5de4c698-50bd-4e02-a823-1d85717d448a button.colab-df-convert');\n",
              "        buttonEl.style.display =\n",
              "          google.colab.kernel.accessAllowed ? 'block' : 'none';\n",
              "\n",
              "        async function convertToInteractive(key) {\n",
              "          const element = document.querySelector('#df-5de4c698-50bd-4e02-a823-1d85717d448a');\n",
              "          const dataTable =\n",
              "            await google.colab.kernel.invokeFunction('convertToInteractive',\n",
              "                                                     [key], {});\n",
              "          if (!dataTable) return;\n",
              "\n",
              "          const docLinkHtml = 'Like what you see? Visit the ' +\n",
              "            '<a target=\"_blank\" href=https://colab.research.google.com/notebooks/data_table.ipynb>data table notebook</a>'\n",
              "            + ' to learn more about interactive tables.';\n",
              "          element.innerHTML = '';\n",
              "          dataTable['output_type'] = 'display_data';\n",
              "          await google.colab.output.renderOutput(dataTable, element);\n",
              "          const docLink = document.createElement('div');\n",
              "          docLink.innerHTML = docLinkHtml;\n",
              "          element.appendChild(docLink);\n",
              "        }\n",
              "      </script>\n",
              "    </div>\n",
              "  </div>\n",
              "  "
            ]
          },
          "metadata": {},
          "execution_count": 6
        }
      ]
    },
    {
      "cell_type": "code",
      "source": [
        "columns = (['duration'\n",
        ",'protocol_type'\n",
        ",'service'\n",
        ",'flag'\n",
        ",'src_bytes'\n",
        ",'dst_bytes'\n",
        ",'land'\n",
        ",'wrong_fragment'\n",
        ",'urgent'\n",
        ",'hot'\n",
        ",'num_failed_logins'\n",
        ",'logged_in'\n",
        ",'num_compromised'\n",
        ",'root_shell'\n",
        ",'su_attempted'\n",
        ",'num_root'\n",
        ",'num_file_creations'\n",
        ",'num_shells'\n",
        ",'num_access_files'\n",
        ",'num_outbound_cmds'\n",
        ",'is_host_login'\n",
        ",'is_guest_login'\n",
        ",'count'\n",
        ",'srv_count'\n",
        ",'serror_rate'\n",
        ",'srv_serror_rate'\n",
        ",'rerror_rate'\n",
        ",'srv_rerror_rate'\n",
        ",'same_srv_rate'\n",
        ",'diff_srv_rate'\n",
        ",'srv_diff_host_rate'\n",
        ",'dst_host_count'\n",
        ",'dst_host_srv_count'\n",
        ",'dst_host_same_srv_rate'\n",
        ",'dst_host_diff_srv_rate'\n",
        ",'dst_host_same_src_port_rate'\n",
        ",'dst_host_srv_diff_host_rate'\n",
        ",'dst_host_serror_rate'\n",
        ",'dst_host_srv_serror_rate'\n",
        ",'dst_host_rerror_rate'\n",
        ",'dst_host_srv_rerror_rate'\n",
        ",'attack'\n",
        "])\n",
        "data.columns=columns"
      ],
      "metadata": {
        "id": "9RLbw3erYv2k"
      },
      "execution_count": 7,
      "outputs": []
    },
    {
      "cell_type": "code",
      "source": [
        "categ = ['protocol_type','service','flag','attack']\n",
        "# Encode Categorical Columns\n",
        "le = LabelEncoder()\n",
        "data[categ] = data[categ].apply(le.fit_transform)"
      ],
      "metadata": {
        "id": "YQjrQU2FYzC1"
      },
      "execution_count": 8,
      "outputs": []
    },
    {
      "cell_type": "code",
      "source": [
        "X= data.iloc[:,1:42]\n",
        "Y=data['attack']"
      ],
      "metadata": {
        "id": "Kwvz26c3Y3h2"
      },
      "execution_count": 9,
      "outputs": []
    },
    {
      "cell_type": "code",
      "source": [
        "scaler = Normalizer().fit(X)\n",
        "X= scaler.transform(X)"
      ],
      "metadata": {
        "id": "nMi5GsAUbx19"
      },
      "execution_count": 10,
      "outputs": []
    },
    {
      "cell_type": "code",
      "source": [
        "X_train , X_test , Y_train , Y_test = train_test_split(X,Y, test_size=0.2)"
      ],
      "metadata": {
        "id": "s7haKUofcqbs"
      },
      "execution_count": 11,
      "outputs": []
    },
    {
      "cell_type": "code",
      "source": [
        "# reshape input to be [samples, time steps, features]\n",
        "X_train = np.reshape(X_train, (X_train.shape[0],X_train.shape[1],1))\n",
        "X_test = np.reshape(X_test, (X_test.shape[0],X_test.shape[1],1))"
      ],
      "metadata": {
        "id": "xRXveMv-dPcK"
      },
      "execution_count": 12,
      "outputs": []
    },
    {
      "cell_type": "code",
      "source": [
        "model = Sequential()\n",
        "model.add(GRU(128,input_shape=(41, 1)))  # try using a GRU instead, for fun\n",
        "model.add(Dropout(0.1))\n",
        "model.add(Dense(41))\n",
        "model.add(Activation('softmax'))"
      ],
      "metadata": {
        "id": "yVopxE45cw_a"
      },
      "execution_count": 13,
      "outputs": []
    },
    {
      "cell_type": "code",
      "source": [
        "# try using different optimizers and different optimizer configs\n",
        "model.compile(loss='sparse_categorical_crossentropy',optimizer='adam',metrics=['accuracy'])"
      ],
      "metadata": {
        "id": "r1AQZ13Bc-vc"
      },
      "execution_count": 14,
      "outputs": []
    },
    {
      "cell_type": "code",
      "source": [
        "checkpointer = callbacks.ModelCheckpoint(filepath=\"kddresults/lstm1layer/checkpoint-{epoch:02d}.hdf5\", verbose=1, save_best_only=True, monitor='val_acc',mode='max')"
      ],
      "metadata": {
        "id": "-im3XQsyc7d8"
      },
      "execution_count": 15,
      "outputs": []
    },
    {
      "cell_type": "code",
      "source": [
        "history=model.fit(X_train, Y_train, epochs=75,verbose=1,batch_size=500,validation_data=(X_test, Y_test),callbacks=[checkpointer])"
      ],
      "metadata": {
        "id": "bAks6AhBdGHM",
        "outputId": "910c4001-d5d1-43a3-c8be-2fc912b76c92",
        "colab": {
          "base_uri": "https://localhost:8080/"
        }
      },
      "execution_count": 16,
      "outputs": [
        {
          "output_type": "stream",
          "name": "stdout",
          "text": [
            "Epoch 1/75\n",
            "7836/7838 [============================>.] - ETA: 0s - loss: 0.2220 - accuracy: 0.9296WARNING:tensorflow:Can save best model only with val_acc available, skipping.\n",
            "7838/7838 [==============================] - 170s 20ms/step - loss: 0.2220 - accuracy: 0.9296 - val_loss: 0.0541 - val_accuracy: 0.9892\n",
            "Epoch 2/75\n",
            "7837/7838 [============================>.] - ETA: 0s - loss: 0.0418 - accuracy: 0.9906WARNING:tensorflow:Can save best model only with val_acc available, skipping.\n",
            "7838/7838 [==============================] - 151s 19ms/step - loss: 0.0418 - accuracy: 0.9906 - val_loss: 0.0277 - val_accuracy: 0.9938\n",
            "Epoch 3/75\n",
            "7836/7838 [============================>.] - ETA: 0s - loss: 0.0226 - accuracy: 0.9945WARNING:tensorflow:Can save best model only with val_acc available, skipping.\n",
            "7838/7838 [==============================] - 151s 19ms/step - loss: 0.0226 - accuracy: 0.9945 - val_loss: 0.0126 - val_accuracy: 0.9968\n",
            "Epoch 4/75\n",
            "7836/7838 [============================>.] - ETA: 0s - loss: 0.0199 - accuracy: 0.9953WARNING:tensorflow:Can save best model only with val_acc available, skipping.\n",
            "7838/7838 [==============================] - 150s 19ms/step - loss: 0.0199 - accuracy: 0.9953 - val_loss: 0.0121 - val_accuracy: 0.9962\n",
            "Epoch 5/75\n",
            "7835/7838 [============================>.] - ETA: 0s - loss: 0.0082 - accuracy: 0.9980WARNING:tensorflow:Can save best model only with val_acc available, skipping.\n",
            "7838/7838 [==============================] - 150s 19ms/step - loss: 0.0082 - accuracy: 0.9980 - val_loss: 0.0045 - val_accuracy: 0.9990\n",
            "Epoch 6/75\n",
            "7838/7838 [==============================] - ETA: 0s - loss: 0.0046 - accuracy: 0.9989WARNING:tensorflow:Can save best model only with val_acc available, skipping.\n",
            "7838/7838 [==============================] - 150s 19ms/step - loss: 0.0046 - accuracy: 0.9989 - val_loss: 0.0038 - val_accuracy: 0.9990\n",
            "Epoch 7/75\n",
            "7837/7838 [============================>.] - ETA: 0s - loss: 0.0032 - accuracy: 0.9992WARNING:tensorflow:Can save best model only with val_acc available, skipping.\n",
            "7838/7838 [==============================] - 149s 19ms/step - loss: 0.0032 - accuracy: 0.9992 - val_loss: 0.0034 - val_accuracy: 0.9990\n",
            "Epoch 8/75\n",
            "7836/7838 [============================>.] - ETA: 0s - loss: 0.0026 - accuracy: 0.9993WARNING:tensorflow:Can save best model only with val_acc available, skipping.\n",
            "7838/7838 [==============================] - 149s 19ms/step - loss: 0.0026 - accuracy: 0.9993 - val_loss: 0.0021 - val_accuracy: 0.9995\n",
            "Epoch 9/75\n",
            "7838/7838 [==============================] - ETA: 0s - loss: 0.0022 - accuracy: 0.9994WARNING:tensorflow:Can save best model only with val_acc available, skipping.\n",
            "7838/7838 [==============================] - 140s 18ms/step - loss: 0.0022 - accuracy: 0.9994 - val_loss: 0.0016 - val_accuracy: 0.9996\n",
            "Epoch 10/75\n",
            "7837/7838 [============================>.] - ETA: 0s - loss: 0.0019 - accuracy: 0.9995WARNING:tensorflow:Can save best model only with val_acc available, skipping.\n",
            "7838/7838 [==============================] - 140s 18ms/step - loss: 0.0019 - accuracy: 0.9995 - val_loss: 0.0015 - val_accuracy: 0.9996\n",
            "Epoch 11/75\n",
            "7838/7838 [==============================] - ETA: 0s - loss: 0.0018 - accuracy: 0.9995WARNING:tensorflow:Can save best model only with val_acc available, skipping.\n",
            "7838/7838 [==============================] - 150s 19ms/step - loss: 0.0018 - accuracy: 0.9995 - val_loss: 0.0018 - val_accuracy: 0.9996\n",
            "Epoch 12/75\n",
            "7837/7838 [============================>.] - ETA: 0s - loss: 0.0016 - accuracy: 0.9996WARNING:tensorflow:Can save best model only with val_acc available, skipping.\n",
            "7838/7838 [==============================] - 150s 19ms/step - loss: 0.0016 - accuracy: 0.9996 - val_loss: 0.0012 - val_accuracy: 0.9997\n",
            "Epoch 13/75\n",
            "7836/7838 [============================>.] - ETA: 0s - loss: 0.0014 - accuracy: 0.9996WARNING:tensorflow:Can save best model only with val_acc available, skipping.\n",
            "7838/7838 [==============================] - 141s 18ms/step - loss: 0.0014 - accuracy: 0.9996 - val_loss: 0.0013 - val_accuracy: 0.9997\n",
            "Epoch 14/75\n",
            "7837/7838 [============================>.] - ETA: 0s - loss: 0.0013 - accuracy: 0.9997WARNING:tensorflow:Can save best model only with val_acc available, skipping.\n",
            "7838/7838 [==============================] - 138s 18ms/step - loss: 0.0013 - accuracy: 0.9997 - val_loss: 9.5920e-04 - val_accuracy: 0.9998\n",
            "Epoch 15/75\n",
            "7837/7838 [============================>.] - ETA: 0s - loss: 0.0013 - accuracy: 0.9997WARNING:tensorflow:Can save best model only with val_acc available, skipping.\n",
            "7838/7838 [==============================] - 139s 18ms/step - loss: 0.0013 - accuracy: 0.9997 - val_loss: 9.8534e-04 - val_accuracy: 0.9997\n",
            "Epoch 16/75\n",
            "7837/7838 [============================>.] - ETA: 0s - loss: 0.0012 - accuracy: 0.9997WARNING:tensorflow:Can save best model only with val_acc available, skipping.\n",
            "7838/7838 [==============================] - 139s 18ms/step - loss: 0.0012 - accuracy: 0.9997 - val_loss: 9.3625e-04 - val_accuracy: 0.9998\n",
            "Epoch 17/75\n",
            "7836/7838 [============================>.] - ETA: 0s - loss: 0.0012 - accuracy: 0.9997WARNING:tensorflow:Can save best model only with val_acc available, skipping.\n",
            "7838/7838 [==============================] - 147s 19ms/step - loss: 0.0012 - accuracy: 0.9997 - val_loss: 0.0013 - val_accuracy: 0.9996\n",
            "Epoch 18/75\n",
            "7838/7838 [==============================] - ETA: 0s - loss: 0.0010 - accuracy: 0.9997WARNING:tensorflow:Can save best model only with val_acc available, skipping.\n",
            "7838/7838 [==============================] - 149s 19ms/step - loss: 0.0010 - accuracy: 0.9997 - val_loss: 9.2212e-04 - val_accuracy: 0.9998\n",
            "Epoch 19/75\n",
            "7837/7838 [============================>.] - ETA: 0s - loss: 0.0010 - accuracy: 0.9997WARNING:tensorflow:Can save best model only with val_acc available, skipping.\n",
            "7838/7838 [==============================] - 141s 18ms/step - loss: 0.0010 - accuracy: 0.9997 - val_loss: 7.7557e-04 - val_accuracy: 0.9998\n",
            "Epoch 20/75\n",
            "7836/7838 [============================>.] - ETA: 0s - loss: 9.1257e-04 - accuracy: 0.9998WARNING:tensorflow:Can save best model only with val_acc available, skipping.\n",
            "7838/7838 [==============================] - 147s 19ms/step - loss: 9.1241e-04 - accuracy: 0.9998 - val_loss: 8.1471e-04 - val_accuracy: 0.9998\n",
            "Epoch 21/75\n",
            "7838/7838 [==============================] - ETA: 0s - loss: 8.3312e-04 - accuracy: 0.9998WARNING:tensorflow:Can save best model only with val_acc available, skipping.\n",
            "7838/7838 [==============================] - 138s 18ms/step - loss: 8.3312e-04 - accuracy: 0.9998 - val_loss: 6.7205e-04 - val_accuracy: 0.9998\n",
            "Epoch 22/75\n",
            "7837/7838 [============================>.] - ETA: 0s - loss: 7.7977e-04 - accuracy: 0.9998WARNING:tensorflow:Can save best model only with val_acc available, skipping.\n",
            "7838/7838 [==============================] - 151s 19ms/step - loss: 7.7973e-04 - accuracy: 0.9998 - val_loss: 7.5889e-04 - val_accuracy: 0.9998\n",
            "Epoch 23/75\n",
            "7837/7838 [============================>.] - ETA: 0s - loss: 7.2685e-04 - accuracy: 0.9998WARNING:tensorflow:Can save best model only with val_acc available, skipping.\n",
            "7838/7838 [==============================] - 148s 19ms/step - loss: 7.2744e-04 - accuracy: 0.9998 - val_loss: 6.6007e-04 - val_accuracy: 0.9999\n",
            "Epoch 24/75\n",
            "7837/7838 [============================>.] - ETA: 0s - loss: 6.6447e-04 - accuracy: 0.9999WARNING:tensorflow:Can save best model only with val_acc available, skipping.\n",
            "7838/7838 [==============================] - 138s 18ms/step - loss: 6.6443e-04 - accuracy: 0.9999 - val_loss: 6.3186e-04 - val_accuracy: 0.9999\n",
            "Epoch 25/75\n",
            "7837/7838 [============================>.] - ETA: 0s - loss: 6.5226e-04 - accuracy: 0.9998WARNING:tensorflow:Can save best model only with val_acc available, skipping.\n",
            "7838/7838 [==============================] - 142s 18ms/step - loss: 6.5222e-04 - accuracy: 0.9998 - val_loss: 5.0235e-04 - val_accuracy: 0.9999\n",
            "Epoch 26/75\n",
            "7837/7838 [============================>.] - ETA: 0s - loss: 6.1347e-04 - accuracy: 0.9999WARNING:tensorflow:Can save best model only with val_acc available, skipping.\n",
            "7838/7838 [==============================] - 148s 19ms/step - loss: 6.1343e-04 - accuracy: 0.9999 - val_loss: 6.6217e-04 - val_accuracy: 0.9999\n",
            "Epoch 27/75\n",
            "7835/7838 [============================>.] - ETA: 0s - loss: 5.8268e-04 - accuracy: 0.9999WARNING:tensorflow:Can save best model only with val_acc available, skipping.\n",
            "7838/7838 [==============================] - 148s 19ms/step - loss: 5.8251e-04 - accuracy: 0.9999 - val_loss: 5.6640e-04 - val_accuracy: 0.9999\n",
            "Epoch 28/75\n",
            "7835/7838 [============================>.] - ETA: 0s - loss: 5.6013e-04 - accuracy: 0.9999WARNING:tensorflow:Can save best model only with val_acc available, skipping.\n",
            "7838/7838 [==============================] - 145s 19ms/step - loss: 5.5998e-04 - accuracy: 0.9999 - val_loss: 5.4691e-04 - val_accuracy: 0.9999\n",
            "Epoch 29/75\n",
            "7837/7838 [============================>.] - ETA: 0s - loss: 5.3700e-04 - accuracy: 0.9999WARNING:tensorflow:Can save best model only with val_acc available, skipping.\n",
            "7838/7838 [==============================] - 145s 18ms/step - loss: 5.3696e-04 - accuracy: 0.9999 - val_loss: 4.4465e-04 - val_accuracy: 0.9999\n",
            "Epoch 30/75\n",
            "7836/7838 [============================>.] - ETA: 0s - loss: 5.5657e-04 - accuracy: 0.9999WARNING:tensorflow:Can save best model only with val_acc available, skipping.\n",
            "7838/7838 [==============================] - 154s 20ms/step - loss: 5.5647e-04 - accuracy: 0.9999 - val_loss: 5.5195e-04 - val_accuracy: 0.9999\n",
            "Epoch 31/75\n",
            "7838/7838 [==============================] - ETA: 0s - loss: 5.1204e-04 - accuracy: 0.9999WARNING:tensorflow:Can save best model only with val_acc available, skipping.\n",
            "7838/7838 [==============================] - 154s 20ms/step - loss: 5.1204e-04 - accuracy: 0.9999 - val_loss: 4.7367e-04 - val_accuracy: 0.9999\n",
            "Epoch 32/75\n",
            "7836/7838 [============================>.] - ETA: 0s - loss: 5.2560e-04 - accuracy: 0.9999WARNING:tensorflow:Can save best model only with val_acc available, skipping.\n",
            "7838/7838 [==============================] - 152s 19ms/step - loss: 5.2551e-04 - accuracy: 0.9999 - val_loss: 7.9043e-04 - val_accuracy: 0.9999\n",
            "Epoch 33/75\n",
            "7837/7838 [============================>.] - ETA: 0s - loss: 5.0538e-04 - accuracy: 0.9999WARNING:tensorflow:Can save best model only with val_acc available, skipping.\n",
            "7838/7838 [==============================] - 140s 18ms/step - loss: 5.0535e-04 - accuracy: 0.9999 - val_loss: 5.0576e-04 - val_accuracy: 0.9999\n",
            "Epoch 34/75\n",
            "7838/7838 [==============================] - ETA: 0s - loss: 5.0302e-04 - accuracy: 0.9999WARNING:tensorflow:Can save best model only with val_acc available, skipping.\n",
            "7838/7838 [==============================] - 141s 18ms/step - loss: 5.0302e-04 - accuracy: 0.9999 - val_loss: 4.2740e-04 - val_accuracy: 0.9999\n",
            "Epoch 35/75\n",
            "7837/7838 [============================>.] - ETA: 0s - loss: 4.8579e-04 - accuracy: 0.9999WARNING:tensorflow:Can save best model only with val_acc available, skipping.\n",
            "7838/7838 [==============================] - 140s 18ms/step - loss: 4.8576e-04 - accuracy: 0.9999 - val_loss: 3.8611e-04 - val_accuracy: 0.9999\n",
            "Epoch 36/75\n",
            "7837/7838 [============================>.] - ETA: 0s - loss: 4.5908e-04 - accuracy: 0.9999WARNING:tensorflow:Can save best model only with val_acc available, skipping.\n",
            "7838/7838 [==============================] - 152s 19ms/step - loss: 4.5905e-04 - accuracy: 0.9999 - val_loss: 4.0293e-04 - val_accuracy: 0.9999\n",
            "Epoch 37/75\n",
            "7837/7838 [============================>.] - ETA: 0s - loss: 4.7722e-04 - accuracy: 0.9999WARNING:tensorflow:Can save best model only with val_acc available, skipping.\n",
            "7838/7838 [==============================] - 143s 18ms/step - loss: 4.7719e-04 - accuracy: 0.9999 - val_loss: 3.8801e-04 - val_accuracy: 0.9999\n",
            "Epoch 38/75\n",
            "7837/7838 [============================>.] - ETA: 0s - loss: 4.6760e-04 - accuracy: 0.9999WARNING:tensorflow:Can save best model only with val_acc available, skipping.\n",
            "7838/7838 [==============================] - 142s 18ms/step - loss: 4.6757e-04 - accuracy: 0.9999 - val_loss: 3.7809e-04 - val_accuracy: 0.9999\n",
            "Epoch 39/75\n",
            "7838/7838 [==============================] - ETA: 0s - loss: 4.3717e-04 - accuracy: 0.9999WARNING:tensorflow:Can save best model only with val_acc available, skipping.\n",
            "7838/7838 [==============================] - 141s 18ms/step - loss: 4.3717e-04 - accuracy: 0.9999 - val_loss: 4.2632e-04 - val_accuracy: 0.9999\n",
            "Epoch 40/75\n",
            "7837/7838 [============================>.] - ETA: 0s - loss: 5.1225e-04 - accuracy: 0.9999WARNING:tensorflow:Can save best model only with val_acc available, skipping.\n",
            "7838/7838 [==============================] - 141s 18ms/step - loss: 5.1222e-04 - accuracy: 0.9999 - val_loss: 5.4011e-04 - val_accuracy: 0.9999\n",
            "Epoch 41/75\n",
            "7837/7838 [============================>.] - ETA: 0s - loss: 4.4234e-04 - accuracy: 0.9999WARNING:tensorflow:Can save best model only with val_acc available, skipping.\n",
            "7838/7838 [==============================] - 141s 18ms/step - loss: 4.4232e-04 - accuracy: 0.9999 - val_loss: 4.5725e-04 - val_accuracy: 0.9999\n",
            "Epoch 42/75\n",
            "7837/7838 [============================>.] - ETA: 0s - loss: 4.2314e-04 - accuracy: 0.9999WARNING:tensorflow:Can save best model only with val_acc available, skipping.\n",
            "7838/7838 [==============================] - 151s 19ms/step - loss: 4.2311e-04 - accuracy: 0.9999 - val_loss: 8.2125e-04 - val_accuracy: 0.9998\n",
            "Epoch 43/75\n",
            "7836/7838 [============================>.] - ETA: 0s - loss: 4.8399e-04 - accuracy: 0.9999WARNING:tensorflow:Can save best model only with val_acc available, skipping.\n",
            "7838/7838 [==============================] - 151s 19ms/step - loss: 4.8390e-04 - accuracy: 0.9999 - val_loss: 4.8499e-04 - val_accuracy: 0.9999\n",
            "Epoch 44/75\n",
            "7837/7838 [============================>.] - ETA: 0s - loss: 4.2510e-04 - accuracy: 0.9999WARNING:tensorflow:Can save best model only with val_acc available, skipping.\n",
            "7838/7838 [==============================] - 150s 19ms/step - loss: 4.2507e-04 - accuracy: 0.9999 - val_loss: 6.2570e-04 - val_accuracy: 0.9999\n",
            "Epoch 45/75\n",
            "7837/7838 [============================>.] - ETA: 0s - loss: 4.3477e-04 - accuracy: 0.9999WARNING:tensorflow:Can save best model only with val_acc available, skipping.\n",
            "7838/7838 [==============================] - 141s 18ms/step - loss: 4.3474e-04 - accuracy: 0.9999 - val_loss: 4.2964e-04 - val_accuracy: 0.9999\n",
            "Epoch 46/75\n",
            "7836/7838 [============================>.] - ETA: 0s - loss: 4.1284e-04 - accuracy: 0.9999WARNING:tensorflow:Can save best model only with val_acc available, skipping.\n",
            "7838/7838 [==============================] - 141s 18ms/step - loss: 4.1276e-04 - accuracy: 0.9999 - val_loss: 3.8593e-04 - val_accuracy: 0.9999\n",
            "Epoch 47/75\n",
            "7837/7838 [============================>.] - ETA: 0s - loss: 4.2178e-04 - accuracy: 0.9999WARNING:tensorflow:Can save best model only with val_acc available, skipping.\n",
            "7838/7838 [==============================] - 150s 19ms/step - loss: 4.2176e-04 - accuracy: 0.9999 - val_loss: 4.7251e-04 - val_accuracy: 0.9999\n",
            "Epoch 48/75\n",
            "7836/7838 [============================>.] - ETA: 0s - loss: 3.8530e-04 - accuracy: 0.9999WARNING:tensorflow:Can save best model only with val_acc available, skipping.\n",
            "7838/7838 [==============================] - 150s 19ms/step - loss: 3.8522e-04 - accuracy: 0.9999 - val_loss: 3.7528e-04 - val_accuracy: 0.9999\n",
            "Epoch 49/75\n",
            "7837/7838 [============================>.] - ETA: 0s - loss: 3.8080e-04 - accuracy: 0.9999WARNING:tensorflow:Can save best model only with val_acc available, skipping.\n",
            "7838/7838 [==============================] - 150s 19ms/step - loss: 3.8077e-04 - accuracy: 0.9999 - val_loss: 4.8507e-04 - val_accuracy: 0.9999\n",
            "Epoch 50/75\n",
            "7838/7838 [==============================] - ETA: 0s - loss: 3.7622e-04 - accuracy: 0.9999WARNING:tensorflow:Can save best model only with val_acc available, skipping.\n",
            "7838/7838 [==============================] - 141s 18ms/step - loss: 3.7622e-04 - accuracy: 0.9999 - val_loss: 3.9645e-04 - val_accuracy: 0.9999\n",
            "Epoch 51/75\n",
            "7836/7838 [============================>.] - ETA: 0s - loss: 4.1956e-04 - accuracy: 0.9999WARNING:tensorflow:Can save best model only with val_acc available, skipping.\n",
            "7838/7838 [==============================] - 140s 18ms/step - loss: 4.1949e-04 - accuracy: 0.9999 - val_loss: 4.0427e-04 - val_accuracy: 0.9999\n",
            "Epoch 52/75\n",
            "7838/7838 [==============================] - ETA: 0s - loss: 4.1604e-04 - accuracy: 0.9999WARNING:tensorflow:Can save best model only with val_acc available, skipping.\n",
            "7838/7838 [==============================] - 150s 19ms/step - loss: 4.1604e-04 - accuracy: 0.9999 - val_loss: 4.0705e-04 - val_accuracy: 0.9999\n",
            "Epoch 53/75\n",
            "7837/7838 [============================>.] - ETA: 0s - loss: 4.0039e-04 - accuracy: 0.9999WARNING:tensorflow:Can save best model only with val_acc available, skipping.\n",
            "7838/7838 [==============================] - 150s 19ms/step - loss: 4.0037e-04 - accuracy: 0.9999 - val_loss: 5.7624e-04 - val_accuracy: 0.9999\n",
            "Epoch 54/75\n",
            "7838/7838 [==============================] - ETA: 0s - loss: 4.2031e-04 - accuracy: 0.9999WARNING:tensorflow:Can save best model only with val_acc available, skipping.\n",
            "7838/7838 [==============================] - 140s 18ms/step - loss: 4.2031e-04 - accuracy: 0.9999 - val_loss: 5.0894e-04 - val_accuracy: 0.9999\n",
            "Epoch 55/75\n",
            "7837/7838 [============================>.] - ETA: 0s - loss: 3.6919e-04 - accuracy: 0.9999WARNING:tensorflow:Can save best model only with val_acc available, skipping.\n",
            "7838/7838 [==============================] - 140s 18ms/step - loss: 3.6917e-04 - accuracy: 0.9999 - val_loss: 3.8132e-04 - val_accuracy: 0.9999\n",
            "Epoch 56/75\n",
            "7837/7838 [============================>.] - ETA: 0s - loss: 3.5555e-04 - accuracy: 0.9999WARNING:tensorflow:Can save best model only with val_acc available, skipping.\n",
            "7838/7838 [==============================] - 140s 18ms/step - loss: 3.5552e-04 - accuracy: 0.9999 - val_loss: 3.9886e-04 - val_accuracy: 0.9999\n",
            "Epoch 57/75\n",
            "7836/7838 [============================>.] - ETA: 0s - loss: 3.4988e-04 - accuracy: 0.9999WARNING:tensorflow:Can save best model only with val_acc available, skipping.\n",
            "7838/7838 [==============================] - 149s 19ms/step - loss: 3.5191e-04 - accuracy: 0.9999 - val_loss: 5.0456e-04 - val_accuracy: 0.9999\n",
            "Epoch 58/75\n",
            "7838/7838 [==============================] - ETA: 0s - loss: 3.9681e-04 - accuracy: 0.9999WARNING:tensorflow:Can save best model only with val_acc available, skipping.\n",
            "7838/7838 [==============================] - 150s 19ms/step - loss: 3.9681e-04 - accuracy: 0.9999 - val_loss: 4.9216e-04 - val_accuracy: 0.9999\n",
            "Epoch 59/75\n",
            "7836/7838 [============================>.] - ETA: 0s - loss: 3.9421e-04 - accuracy: 0.9999WARNING:tensorflow:Can save best model only with val_acc available, skipping.\n",
            "7838/7838 [==============================] - 140s 18ms/step - loss: 3.9413e-04 - accuracy: 0.9999 - val_loss: 3.9036e-04 - val_accuracy: 0.9999\n",
            "Epoch 60/75\n",
            "7838/7838 [==============================] - ETA: 0s - loss: 3.8074e-04 - accuracy: 0.9999WARNING:tensorflow:Can save best model only with val_acc available, skipping.\n",
            "7838/7838 [==============================] - 140s 18ms/step - loss: 3.8074e-04 - accuracy: 0.9999 - val_loss: 4.0939e-04 - val_accuracy: 0.9999\n",
            "Epoch 61/75\n",
            "7836/7838 [============================>.] - ETA: 0s - loss: 3.7379e-04 - accuracy: 0.9999WARNING:tensorflow:Can save best model only with val_acc available, skipping.\n",
            "7838/7838 [==============================] - 141s 18ms/step - loss: 3.7401e-04 - accuracy: 0.9999 - val_loss: 3.6726e-04 - val_accuracy: 0.9999\n",
            "Epoch 62/75\n",
            "7837/7838 [============================>.] - ETA: 0s - loss: 3.4468e-04 - accuracy: 0.9999WARNING:tensorflow:Can save best model only with val_acc available, skipping.\n",
            "7838/7838 [==============================] - 149s 19ms/step - loss: 3.4466e-04 - accuracy: 0.9999 - val_loss: 3.8561e-04 - val_accuracy: 0.9999\n",
            "Epoch 63/75\n",
            "7836/7838 [============================>.] - ETA: 0s - loss: 3.5793e-04 - accuracy: 0.9999WARNING:tensorflow:Can save best model only with val_acc available, skipping.\n",
            "7838/7838 [==============================] - 150s 19ms/step - loss: 3.5787e-04 - accuracy: 0.9999 - val_loss: 4.2250e-04 - val_accuracy: 0.9999\n",
            "Epoch 64/75\n",
            "7837/7838 [============================>.] - ETA: 0s - loss: 3.4208e-04 - accuracy: 0.9999WARNING:tensorflow:Can save best model only with val_acc available, skipping.\n",
            "7838/7838 [==============================] - 151s 19ms/step - loss: 3.4206e-04 - accuracy: 0.9999 - val_loss: 3.8419e-04 - val_accuracy: 0.9999\n",
            "Epoch 65/75\n",
            "7837/7838 [============================>.] - ETA: 0s - loss: 3.5962e-04 - accuracy: 0.9999WARNING:tensorflow:Can save best model only with val_acc available, skipping.\n",
            "7838/7838 [==============================] - 151s 19ms/step - loss: 3.5960e-04 - accuracy: 0.9999 - val_loss: 3.6216e-04 - val_accuracy: 0.9999\n",
            "Epoch 66/75\n",
            "7838/7838 [==============================] - ETA: 0s - loss: 3.7226e-04 - accuracy: 0.9999WARNING:tensorflow:Can save best model only with val_acc available, skipping.\n",
            "7838/7838 [==============================] - 151s 19ms/step - loss: 3.7226e-04 - accuracy: 0.9999 - val_loss: 4.0744e-04 - val_accuracy: 0.9999\n",
            "Epoch 67/75\n",
            "7837/7838 [============================>.] - ETA: 0s - loss: 3.3896e-04 - accuracy: 0.9999WARNING:tensorflow:Can save best model only with val_acc available, skipping.\n",
            "7838/7838 [==============================] - 142s 18ms/step - loss: 3.3894e-04 - accuracy: 0.9999 - val_loss: 4.5730e-04 - val_accuracy: 0.9999\n",
            "Epoch 68/75\n",
            "7838/7838 [==============================] - ETA: 0s - loss: 3.7719e-04 - accuracy: 0.9999WARNING:tensorflow:Can save best model only with val_acc available, skipping.\n",
            "7838/7838 [==============================] - 151s 19ms/step - loss: 3.7719e-04 - accuracy: 0.9999 - val_loss: 3.7627e-04 - val_accuracy: 0.9999\n",
            "Epoch 69/75\n",
            "7837/7838 [============================>.] - ETA: 0s - loss: 3.1072e-04 - accuracy: 0.9999WARNING:tensorflow:Can save best model only with val_acc available, skipping.\n",
            "7838/7838 [==============================] - 143s 18ms/step - loss: 3.1070e-04 - accuracy: 0.9999 - val_loss: 4.0231e-04 - val_accuracy: 0.9999\n",
            "Epoch 70/75\n",
            "7836/7838 [============================>.] - ETA: 0s - loss: 2.9962e-04 - accuracy: 0.9999WARNING:tensorflow:Can save best model only with val_acc available, skipping.\n",
            "7838/7838 [==============================] - 150s 19ms/step - loss: 2.9956e-04 - accuracy: 0.9999 - val_loss: 3.4691e-04 - val_accuracy: 0.9999\n",
            "Epoch 71/75\n",
            "7836/7838 [============================>.] - ETA: 0s - loss: 3.3799e-04 - accuracy: 0.9999WARNING:tensorflow:Can save best model only with val_acc available, skipping.\n",
            "7838/7838 [==============================] - 142s 18ms/step - loss: 3.3793e-04 - accuracy: 0.9999 - val_loss: 3.8300e-04 - val_accuracy: 0.9999\n",
            "Epoch 72/75\n",
            "7836/7838 [============================>.] - ETA: 0s - loss: 3.6798e-04 - accuracy: 0.9999WARNING:tensorflow:Can save best model only with val_acc available, skipping.\n",
            "7838/7838 [==============================] - 151s 19ms/step - loss: 3.6798e-04 - accuracy: 0.9999 - val_loss: 3.8596e-04 - val_accuracy: 0.9999\n",
            "Epoch 73/75\n",
            "7838/7838 [==============================] - ETA: 0s - loss: 3.5994e-04 - accuracy: 0.9999WARNING:tensorflow:Can save best model only with val_acc available, skipping.\n",
            "7838/7838 [==============================] - 152s 19ms/step - loss: 3.5994e-04 - accuracy: 0.9999 - val_loss: 3.8319e-04 - val_accuracy: 0.9999\n",
            "Epoch 74/75\n",
            "7837/7838 [============================>.] - ETA: 0s - loss: 3.4118e-04 - accuracy: 0.9999WARNING:tensorflow:Can save best model only with val_acc available, skipping.\n",
            "7838/7838 [==============================] - 151s 19ms/step - loss: 3.4116e-04 - accuracy: 0.9999 - val_loss: 4.1241e-04 - val_accuracy: 0.9999\n",
            "Epoch 75/75\n",
            "7835/7838 [============================>.] - ETA: 0s - loss: 3.7777e-04 - accuracy: 0.9999WARNING:tensorflow:Can save best model only with val_acc available, skipping.\n",
            "7838/7838 [==============================] - 142s 18ms/step - loss: 3.7769e-04 - accuracy: 0.9999 - val_loss: 4.7882e-04 - val_accuracy: 0.9999\n"
          ]
        }
      ]
    },
    {
      "cell_type": "code",
      "source": [
        "plt.plot(history.history['accuracy'])\n",
        "plt.plot(history.history['val_accuracy'])\n",
        "plt.title('model accuracy')\n",
        "plt.ylabel('accuracy')\n",
        "plt.xlabel('epoch')\n",
        "plt.legend(['train','test'], loc='upper left')\n",
        "plt.show()"
      ],
      "metadata": {
        "id": "DRXnx7wtsj-8",
        "outputId": "27c6aa11-b0ba-4bb3-dc78-f2fbba76be52",
        "colab": {
          "base_uri": "https://localhost:8080/",
          "height": 295
        }
      },
      "execution_count": 17,
      "outputs": [
        {
          "output_type": "display_data",
          "data": {
            "text/plain": [
              "<Figure size 432x288 with 1 Axes>"
            ],
            "image/png": "[encoded data removed]"
          },
          "metadata": {
            "needs_background": "light"
          }
        }
      ]
    },
    {
      "cell_type": "code",
      "source": [
        "plt.plot(history.history['loss'])\n",
        "plt.plot(history.history['val_loss'])\n",
        "plt.title('model loss')\n",
        "plt.ylabel('loss')\n",
        "plt.xlabel('epoch')\n",
        "plt.legend(['train','test'], loc='upper left')\n",
        "plt.show()"
      ],
      "metadata": {
        "id": "_k8WpyACsSmb",
        "outputId": "bb3a48ab-29c2-4509-c0e5-37c36e6359ac",
        "colab": {
          "base_uri": "https://localhost:8080/",
          "height": 295
        }
      },
      "execution_count": 18,
      "outputs": [
        {
          "output_type": "display_data",
          "data": {
            "text/plain": [
              "<Figure size 432x288 with 1 Axes>"
            ],
            "image/png": "[encoded data removed]"
          },
          "metadata": {
            "needs_background": "light"
          }
        }
      ]
    }
  ]
}