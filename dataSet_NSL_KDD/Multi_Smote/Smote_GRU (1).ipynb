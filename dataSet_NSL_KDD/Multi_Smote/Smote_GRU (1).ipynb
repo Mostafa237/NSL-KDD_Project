{
  "cells": [
    {
      "cell_type": "code",
      "execution_count": 1,
      "metadata": {
        "colab": {
          "base_uri": "https://localhost:8080/",
          "height": 74,
          "resources": {
            "http://localhost:8080/nbextensions/google.colab/files.js": {
              "data": "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",
              "headers": [
                [
                  "content-type",
                  "application/javascript"
                ]
              ],
              "ok": true,
              "status": 200,
              "status_text": ""
            }
          }
        },
        "id": "MaAtDMtYn8lO",
        "outputId": "474bdf63-96d9-47e3-b2a4-0cc6a5f2a114"
      },
      "outputs": [
        {
          "output_type": "display_data",
          "data": {
            "text/plain": [
              "<IPython.core.display.HTML object>"
            ],
            "text/html": [
              "\n",
              "     <input type=\"file\" id=\"files-9068d49a-b6e0-4fd7-b1bc-fac65754d391\" name=\"files[]\" multiple disabled\n",
              "        style=\"border:none\" />\n",
              "     <output id=\"result-9068d49a-b6e0-4fd7-b1bc-fac65754d391\">\n",
              "      Upload widget is only available when the cell has been executed in the\n",
              "      current browser session. Please rerun this cell to enable.\n",
              "      </output>\n",
              "      <script src=\"/nbextensions/google.colab/files.js\"></script> "
            ]
          },
          "metadata": {}
        },
        {
          "output_type": "stream",
          "name": "stdout",
          "text": [
            "Saving kaggle.json to kaggle.json\n"
          ]
        }
      ],
      "source": [
        "from google.colab import files\n",
        "files.upload()\n",
        "\n",
        "!pip install -q kaggle\n",
        "\n",
        "!mkdir -p ~/.kaggle\n",
        "!cp kaggle.json ~/.kaggle/\n",
        "\n",
        "# This permissions change avoids a warning on Kaggle tool startup.\n",
        "!chmod 600 ~/.kaggle/kaggle.json"
      ]
    },
    {
      "cell_type": "code",
      "execution_count": 2,
      "metadata": {
        "colab": {
          "base_uri": "https://localhost:8080/"
        },
        "id": "7K8vB_iEoCrN",
        "outputId": "55e8713d-7528-4c0d-af87-c93ca1ee9804"
      },
      "outputs": [
        {
          "output_type": "stream",
          "name": "stdout",
          "text": [
            "Downloading nslkdd.zip to /content\n",
            "\r  0% 0.00/2.56M [00:00<?, ?B/s]\n",
            "\r100% 2.56M/2.56M [00:00<00:00, 79.2MB/s]\n"
          ]
        }
      ],
      "source": [
        "!kaggle datasets download -d kiranmahesh/nslkdd"
      ]
    },
    {
      "cell_type": "code",
      "execution_count": 3,
      "metadata": {
        "id": "4b8lZT9NoE9D"
      },
      "outputs": [],
      "source": [
        "from zipfile import ZipFile\n",
        "file_name='/content/nslkdd.zip'\n",
        "with ZipFile(file_name,'r') as zip:\n",
        "  zip.extractall()"
      ]
    },
    {
      "cell_type": "code",
      "execution_count": 4,
      "metadata": {
        "id": "EqFIaYWxpVAb"
      },
      "outputs": [],
      "source": [
        "from __future__ import print_function\n",
        "from imblearn.over_sampling import ADASYN\n",
        "import numpy as np\n",
        "np.random.seed(1337)  # for reproducibility\n",
        "from keras.preprocessing import sequence\n",
        "from keras.models import Sequential\n",
        "from keras.layers import Dense, Dropout, Activation, Lambda\n",
        "from keras.layers import Embedding\n",
        "from keras.layers import Convolution1D,MaxPooling1D, Flatten\n",
        "from keras.datasets import imdb\n",
        "from keras import backend as K\n",
        "from sklearn.model_selection import train_test_split\n",
        "import pandas as pd\n",
        "from keras.utils.np_utils import to_categorical\n",
        "from sklearn.preprocessing import Normalizer\n",
        "from keras.models import Sequential\n",
        "from keras.layers import Convolution1D, Dense, Dropout, Flatten, MaxPooling1D\n",
        "from keras.utils import np_utils\n",
        "import numpy as np\n",
        "import h5py\n",
        "from keras import callbacks\n",
        "from keras.layers import LSTM, GRU, SimpleRNN\n",
        "from keras.callbacks import CSVLogger\n",
        "from keras.callbacks import ModelCheckpoint, EarlyStopping, ReduceLROnPlateau, CSVLogger\n",
        "from sklearn.preprocessing import LabelEncoder\n",
        "import matplotlib.pyplot as plt\n",
        "from sklearn.datasets import make_classification\n",
        "from sklearn.decomposition import PCA\n",
        "from imblearn.over_sampling import SMOTE\n",
        "from collections import Counter\n",
        "\n",
        "\n"
      ]
    },
    {
      "cell_type": "code",
      "execution_count": 5,
      "metadata": {
        "id": "jMWq8WY-oINE"
      },
      "outputs": [],
      "source": [
        "traindata = pd.read_csv('/content/kdd_train.csv')\n",
        "testdata = pd.read_csv('/content/kdd_test.csv')"
      ]
    },
    {
      "cell_type": "code",
      "execution_count": 6,
      "metadata": {
        "colab": {
          "base_uri": "https://localhost:8080/",
          "height": 299
        },
        "id": "4z0VTgZ8peHm",
        "outputId": "614795b0-a9ac-4db9-8d93-7fa11454838c"
      },
      "outputs": [
        {
          "output_type": "execute_result",
          "data": {
            "text/plain": [
              "   duration protocol_type   service flag  src_bytes  dst_bytes  land  \\\n",
              "0         0           tcp  ftp_data   SF        491          0     0   \n",
              "1         0           udp     other   SF        146          0     0   \n",
              "2         0           tcp   private   S0          0          0     0   \n",
              "3         0           tcp      http   SF        232       8153     0   \n",
              "4         0           tcp      http   SF        199        420     0   \n",
              "\n",
              "   wrong_fragment  urgent  hot  ...  dst_host_srv_count  \\\n",
              "0               0       0    0  ...                  25   \n",
              "1               0       0    0  ...                   1   \n",
              "2               0       0    0  ...                  26   \n",
              "3               0       0    0  ...                 255   \n",
              "4               0       0    0  ...                 255   \n",
              "\n",
              "   dst_host_same_srv_rate  dst_host_diff_srv_rate  \\\n",
              "0                    0.17                    0.03   \n",
              "1                    0.00                    0.60   \n",
              "2                    0.10                    0.05   \n",
              "3                    1.00                    0.00   \n",
              "4                    1.00                    0.00   \n",
              "\n",
              "   dst_host_same_src_port_rate  dst_host_srv_diff_host_rate  \\\n",
              "0                         0.17                         0.00   \n",
              "1                         0.88                         0.00   \n",
              "2                         0.00                         0.00   \n",
              "3                         0.03                         0.04   \n",
              "4                         0.00                         0.00   \n",
              "\n",
              "   dst_host_serror_rate  dst_host_srv_serror_rate  dst_host_rerror_rate  \\\n",
              "0                  0.00                      0.00                  0.05   \n",
              "1                  0.00                      0.00                  0.00   \n",
              "2                  1.00                      1.00                  0.00   \n",
              "3                  0.03                      0.01                  0.00   \n",
              "4                  0.00                      0.00                  0.00   \n",
              "\n",
              "   dst_host_srv_rerror_rate   labels  \n",
              "0                      0.00   normal  \n",
              "1                      0.00   normal  \n",
              "2                      0.00  neptune  \n",
              "3                      0.01   normal  \n",
              "4                      0.00   normal  \n",
              "\n",
              "[5 rows x 42 columns]"
            ],
            "text/html": [
              "\n",
              "  <div id=\"df-ce569056-3afe-4803-8ed7-d0f539d7564b\">\n",
              "    <div class=\"colab-df-container\">\n",
              "      <div>\n",
              "<style scoped>\n",
              "    .dataframe tbody tr th:only-of-type {\n",
              "        vertical-align: middle;\n",
              "    }\n",
              "\n",
              "    .dataframe tbody tr th {\n",
              "        vertical-align: top;\n",
              "    }\n",
              "\n",
              "    .dataframe thead th {\n",
              "        text-align: right;\n",
              "    }\n",
              "</style>\n",
              "<table border=\"1\" class=\"dataframe\">\n",
              "  <thead>\n",
              "    <tr style=\"text-align: right;\">\n",
              "      <th></th>\n",
              "      <th>duration</th>\n",
              "      <th>protocol_type</th>\n",
              "      <th>service</th>\n",
              "      <th>flag</th>\n",
              "      <th>src_bytes</th>\n",
              "      <th>dst_bytes</th>\n",
              "      <th>land</th>\n",
              "      <th>wrong_fragment</th>\n",
              "      <th>urgent</th>\n",
              "      <th>hot</th>\n",
              "      <th>...</th>\n",
              "      <th>dst_host_srv_count</th>\n",
              "      <th>dst_host_same_srv_rate</th>\n",
              "      <th>dst_host_diff_srv_rate</th>\n",
              "      <th>dst_host_same_src_port_rate</th>\n",
              "      <th>dst_host_srv_diff_host_rate</th>\n",
              "      <th>dst_host_serror_rate</th>\n",
              "      <th>dst_host_srv_serror_rate</th>\n",
              "      <th>dst_host_rerror_rate</th>\n",
              "      <th>dst_host_srv_rerror_rate</th>\n",
              "      <th>labels</th>\n",
              "    </tr>\n",
              "  </thead>\n",
              "  <tbody>\n",
              "    <tr>\n",
              "      <th>0</th>\n",
              "      <td>0</td>\n",
              "      <td>tcp</td>\n",
              "      <td>ftp_data</td>\n",
              "      <td>SF</td>\n",
              "      <td>491</td>\n",
              "      <td>0</td>\n",
              "      <td>0</td>\n",
              "      <td>0</td>\n",
              "      <td>0</td>\n",
              "      <td>0</td>\n",
              "      <td>...</td>\n",
              "      <td>25</td>\n",
              "      <td>0.17</td>\n",
              "      <td>0.03</td>\n",
              "      <td>0.17</td>\n",
              "      <td>0.00</td>\n",
              "      <td>0.00</td>\n",
              "      <td>0.00</td>\n",
              "      <td>0.05</td>\n",
              "      <td>0.00</td>\n",
              "      <td>normal</td>\n",
              "    </tr>\n",
              "    <tr>\n",
              "      <th>1</th>\n",
              "      <td>0</td>\n",
              "      <td>udp</td>\n",
              "      <td>other</td>\n",
              "      <td>SF</td>\n",
              "      <td>146</td>\n",
              "      <td>0</td>\n",
              "      <td>0</td>\n",
              "      <td>0</td>\n",
              "      <td>0</td>\n",
              "      <td>0</td>\n",
              "      <td>...</td>\n",
              "      <td>1</td>\n",
              "      <td>0.00</td>\n",
              "      <td>0.60</td>\n",
              "      <td>0.88</td>\n",
              "      <td>0.00</td>\n",
              "      <td>0.00</td>\n",
              "      <td>0.00</td>\n",
              "      <td>0.00</td>\n",
              "      <td>0.00</td>\n",
              "      <td>normal</td>\n",
              "    </tr>\n",
              "    <tr>\n",
              "      <th>2</th>\n",
              "      <td>0</td>\n",
              "      <td>tcp</td>\n",
              "      <td>private</td>\n",
              "      <td>S0</td>\n",
              "      <td>0</td>\n",
              "      <td>0</td>\n",
              "      <td>0</td>\n",
              "      <td>0</td>\n",
              "      <td>0</td>\n",
              "      <td>0</td>\n",
              "      <td>...</td>\n",
              "      <td>26</td>\n",
              "      <td>0.10</td>\n",
              "      <td>0.05</td>\n",
              "      <td>0.00</td>\n",
              "      <td>0.00</td>\n",
              "      <td>1.00</td>\n",
              "      <td>1.00</td>\n",
              "      <td>0.00</td>\n",
              "      <td>0.00</td>\n",
              "      <td>neptune</td>\n",
              "    </tr>\n",
              "    <tr>\n",
              "      <th>3</th>\n",
              "      <td>0</td>\n",
              "      <td>tcp</td>\n",
              "      <td>http</td>\n",
              "      <td>SF</td>\n",
              "      <td>232</td>\n",
              "      <td>8153</td>\n",
              "      <td>0</td>\n",
              "      <td>0</td>\n",
              "      <td>0</td>\n",
              "      <td>0</td>\n",
              "      <td>...</td>\n",
              "      <td>255</td>\n",
              "      <td>1.00</td>\n",
              "      <td>0.00</td>\n",
              "      <td>0.03</td>\n",
              "      <td>0.04</td>\n",
              "      <td>0.03</td>\n",
              "      <td>0.01</td>\n",
              "      <td>0.00</td>\n",
              "      <td>0.01</td>\n",
              "      <td>normal</td>\n",
              "    </tr>\n",
              "    <tr>\n",
              "      <th>4</th>\n",
              "      <td>0</td>\n",
              "      <td>tcp</td>\n",
              "      <td>http</td>\n",
              "      <td>SF</td>\n",
              "      <td>199</td>\n",
              "      <td>420</td>\n",
              "      <td>0</td>\n",
              "      <td>0</td>\n",
              "      <td>0</td>\n",
              "      <td>0</td>\n",
              "      <td>...</td>\n",
              "      <td>255</td>\n",
              "      <td>1.00</td>\n",
              "      <td>0.00</td>\n",
              "      <td>0.00</td>\n",
              "      <td>0.00</td>\n",
              "      <td>0.00</td>\n",
              "      <td>0.00</td>\n",
              "      <td>0.00</td>\n",
              "      <td>0.00</td>\n",
              "      <td>normal</td>\n",
              "    </tr>\n",
              "  </tbody>\n",
              "</table>\n",
              "<p>5 rows × 42 columns</p>\n",
              "</div>\n",
              "      <button class=\"colab-df-convert\" onclick=\"convertToInteractive('df-ce569056-3afe-4803-8ed7-d0f539d7564b')\"\n",
              "              title=\"Convert this dataframe to an interactive table.\"\n",
              "              style=\"display:none;\">\n",
              "        \n",
              "  <svg xmlns=\"http://www.w3.org/2000/svg\" height=\"24px\"viewBox=\"0 0 24 24\"\n",
              "       width=\"24px\">\n",
              "    <path d=\"M0 0h24v24H0V0z\" fill=\"none\"/>\n",
              "    <path d=\"M18.56 5.44l.94 2.06.94-2.06 2.06-.94-2.06-.94-.94-2.06-.94 2.06-2.06.94zm-11 1L8.5 8.5l.94-2.06 2.06-.94-2.06-.94L8.5 2.5l-.94 2.06-2.06.94zm10 10l.94 2.06.94-2.06 2.06-.94-2.06-.94-.94-2.06-.94 2.06-2.06.94z\"/><path d=\"M17.41 7.96l-1.37-1.37c-.4-.4-.92-.59-1.43-.59-.52 0-1.04.2-1.43.59L10.3 9.45l-7.72 7.72c-.78.78-.78 2.05 0 2.83L4 21.41c.39.39.9.59 1.41.59.51 0 1.02-.2 1.41-.59l7.78-7.78 2.81-2.81c.8-.78.8-2.07 0-2.86zM5.41 20L4 18.59l7.72-7.72 1.47 1.35L5.41 20z\"/>\n",
              "  </svg>\n",
              "      </button>\n",
              "      \n",
              "  <style>\n",
              "    .colab-df-container {\n",
              "      display:flex;\n",
              "      flex-wrap:wrap;\n",
              "      gap: 12px;\n",
              "    }\n",
              "\n",
              "    .colab-df-convert {\n",
              "      background-color: #E8F0FE;\n",
              "      border: none;\n",
              "      border-radius: 50%;\n",
              "      cursor: pointer;\n",
              "      display: none;\n",
              "      fill: #1967D2;\n",
              "      height: 32px;\n",
              "      padding: 0 0 0 0;\n",
              "      width: 32px;\n",
              "    }\n",
              "\n",
              "    .colab-df-convert:hover {\n",
              "      background-color: #E2EBFA;\n",
              "      box-shadow: 0px 1px 2px rgba(60, 64, 67, 0.3), 0px 1px 3px 1px rgba(60, 64, 67, 0.15);\n",
              "      fill: #174EA6;\n",
              "    }\n",
              "\n",
              "    [theme=dark] .colab-df-convert {\n",
              "      background-color: #3B4455;\n",
              "      fill: #D2E3FC;\n",
              "    }\n",
              "\n",
              "    [theme=dark] .colab-df-convert:hover {\n",
              "      background-color: #434B5C;\n",
              "      box-shadow: 0px 1px 3px 1px rgba(0, 0, 0, 0.15);\n",
              "      filter: drop-shadow(0px 1px 2px rgba(0, 0, 0, 0.3));\n",
              "      fill: #FFFFFF;\n",
              "    }\n",
              "  </style>\n",
              "\n",
              "      <script>\n",
              "        const buttonEl =\n",
              "          document.querySelector('#df-ce569056-3afe-4803-8ed7-d0f539d7564b button.colab-df-convert');\n",
              "        buttonEl.style.display =\n",
              "          google.colab.kernel.accessAllowed ? 'block' : 'none';\n",
              "\n",
              "        async function convertToInteractive(key) {\n",
              "          const element = document.querySelector('#df-ce569056-3afe-4803-8ed7-d0f539d7564b');\n",
              "          const dataTable =\n",
              "            await google.colab.kernel.invokeFunction('convertToInteractive',\n",
              "                                                     [key], {});\n",
              "          if (!dataTable) return;\n",
              "\n",
              "          const docLinkHtml = 'Like what you see? Visit the ' +\n",
              "            '<a target=\"_blank\" href=https://colab.research.google.com/notebooks/data_table.ipynb>data table notebook</a>'\n",
              "            + ' to learn more about interactive tables.';\n",
              "          element.innerHTML = '';\n",
              "          dataTable['output_type'] = 'display_data';\n",
              "          await google.colab.output.renderOutput(dataTable, element);\n",
              "          const docLink = document.createElement('div');\n",
              "          docLink.innerHTML = docLinkHtml;\n",
              "          element.appendChild(docLink);\n",
              "        }\n",
              "      </script>\n",
              "    </div>\n",
              "  </div>\n",
              "  "
            ]
          },
          "metadata": {},
          "execution_count": 6
        }
      ],
      "source": [
        "data = pd.concat([traindata,testdata])\n",
        "data.head()"
      ]
    },
    {
      "cell_type": "code",
      "execution_count": 7,
      "metadata": {
        "id": "0VA10Bmjpgjd"
      },
      "outputs": [],
      "source": [
        "categ = ['protocol_type','service','flag','labels']\n",
        "# Encode Categorical Columns\n",
        "le = LabelEncoder()\n",
        "data[categ] = data[categ].apply(le.fit_transform)"
      ]
    },
    {
      "cell_type": "code",
      "source": [
        "indexNames = data[ data['labels'] == 35 ].index\n",
        "# Delete these row indexes from dataFrame\n",
        "data.drop(indexNames , inplace=True)"
      ],
      "metadata": {
        "id": "Or87ZELlKC_-"
      },
      "execution_count": 10,
      "outputs": []
    },
    {
      "cell_type": "code",
      "execution_count": 11,
      "metadata": {
        "id": "SKOT70qCpklb"
      },
      "outputs": [],
      "source": [
        "X= data.iloc[:,1:42]\n",
        "Y=data['labels']"
      ]
    },
    {
      "cell_type": "code",
      "execution_count": 12,
      "metadata": {
        "id": "6qseJ-u0poA0"
      },
      "outputs": [],
      "source": [
        "scaler = Normalizer().fit(X)\n",
        "X= scaler.transform(X)"
      ]
    },
    {
      "cell_type": "code",
      "source": [
        "sm = SMOTE(random_state=42,k_neighbors=1)\n",
        "X_res, y_res = sm.fit_resample(X, Y)"
      ],
      "metadata": {
        "id": "YF2jihEFKMb-"
      },
      "execution_count": 15,
      "outputs": []
    },
    {
      "cell_type": "code",
      "execution_count": 16,
      "metadata": {
        "id": "rDcJjZWjpr7r"
      },
      "outputs": [],
      "source": [
        "X_train , X_test , Y_train , Y_test = train_test_split(X,Y, test_size=0.2)"
      ]
    },
    {
      "cell_type": "code",
      "execution_count": 17,
      "metadata": {
        "id": "JB90_uxHpuoD"
      },
      "outputs": [],
      "source": [
        "# reshape input to be [samples, time steps, features]\n",
        "X_train = np.reshape(X_train, (X_train.shape[0],X_train.shape[1],1))\n",
        "X_test = np.reshape(X_test, (X_test.shape[0],X_test.shape[1],1))\n"
      ]
    },
    {
      "cell_type": "code",
      "execution_count": 22,
      "metadata": {
        "id": "Bu4NqjBQpye-"
      },
      "outputs": [],
      "source": [
        "model = Sequential()\n",
        "model.add(GRU(128,input_shape=(41, 1)))  # try using a GRU instead, for fun\n",
        "model.add(Dropout(0.1))\n",
        "model.add(Dense(41))\n",
        "model.add(Activation('softmax'))\n",
        "\n",
        "\n"
      ]
    },
    {
      "cell_type": "code",
      "execution_count": 23,
      "metadata": {
        "id": "Mh07XRzGqAOf"
      },
      "outputs": [],
      "source": [
        "# try using different optimizers and different optimizer configs\n",
        "model.compile(loss='sparse_categorical_crossentropy',optimizer='adam',metrics=['accuracy'])"
      ]
    },
    {
      "cell_type": "code",
      "execution_count": 24,
      "metadata": {
        "id": "tCi0X1lAqNRt"
      },
      "outputs": [],
      "source": [
        "checkpointer = callbacks.ModelCheckpoint(filepath=\"kddresults/lstm1layer/checkpoint-{epoch:02d}.hdf5\", verbose=1, save_best_only=True, monitor='val_acc',mode='max')"
      ]
    },
    {
      "cell_type": "code",
      "execution_count": 25,
      "metadata": {
        "id": "R90w3YqWqVSj",
        "colab": {
          "base_uri": "https://localhost:8080/"
        },
        "outputId": "6a502282-cfce-4944-967f-fdf2b5827fd0"
      },
      "outputs": [
        {
          "output_type": "stream",
          "name": "stdout",
          "text": [
            "Epoch 1/70\n",
            "238/238 [==============================] - ETA: 0s - loss: 1.5131 - accuracy: 0.5202WARNING:tensorflow:Can save best model only with val_acc available, skipping.\n",
            "238/238 [==============================] - 7s 20ms/step - loss: 1.5131 - accuracy: 0.5202 - val_loss: 1.3183 - val_accuracy: 0.5334\n",
            "Epoch 2/70\n",
            "237/238 [============================>.] - ETA: 0s - loss: 1.3321 - accuracy: 0.5274WARNING:tensorflow:Can save best model only with val_acc available, skipping.\n",
            "238/238 [==============================] - 5s 19ms/step - loss: 1.3321 - accuracy: 0.5274 - val_loss: 1.3024 - val_accuracy: 0.5334\n",
            "Epoch 3/70\n",
            "235/238 [============================>.] - ETA: 0s - loss: 1.1348 - accuracy: 0.6528WARNING:tensorflow:Can save best model only with val_acc available, skipping.\n",
            "238/238 [==============================] - 4s 18ms/step - loss: 1.1318 - accuracy: 0.6541 - val_loss: 0.8878 - val_accuracy: 0.7495\n",
            "Epoch 4/70\n",
            "237/238 [============================>.] - ETA: 0s - loss: 0.6687 - accuracy: 0.8264WARNING:tensorflow:Can save best model only with val_acc available, skipping.\n",
            "238/238 [==============================] - 5s 19ms/step - loss: 0.6685 - accuracy: 0.8264 - val_loss: 0.5731 - val_accuracy: 0.8611\n",
            "Epoch 5/70\n",
            "237/238 [============================>.] - ETA: 0s - loss: 0.5493 - accuracy: 0.8543WARNING:tensorflow:Can save best model only with val_acc available, skipping.\n",
            "238/238 [==============================] - 4s 18ms/step - loss: 0.5494 - accuracy: 0.8543 - val_loss: 0.5151 - val_accuracy: 0.8684\n",
            "Epoch 6/70\n",
            "235/238 [============================>.] - ETA: 0s - loss: 0.5115 - accuracy: 0.8602WARNING:tensorflow:Can save best model only with val_acc available, skipping.\n",
            "238/238 [==============================] - 4s 18ms/step - loss: 0.5117 - accuracy: 0.8600 - val_loss: 0.5005 - val_accuracy: 0.8656\n",
            "Epoch 7/70\n",
            "238/238 [==============================] - ETA: 0s - loss: 0.4798 - accuracy: 0.8649WARNING:tensorflow:Can save best model only with val_acc available, skipping.\n",
            "238/238 [==============================] - 4s 18ms/step - loss: 0.4798 - accuracy: 0.8649 - val_loss: 0.4533 - val_accuracy: 0.8752\n",
            "Epoch 8/70\n",
            "237/238 [============================>.] - ETA: 0s - loss: 0.4473 - accuracy: 0.8740WARNING:tensorflow:Can save best model only with val_acc available, skipping.\n",
            "238/238 [==============================] - 4s 18ms/step - loss: 0.4473 - accuracy: 0.8739 - val_loss: 0.4305 - val_accuracy: 0.8830\n",
            "Epoch 9/70\n",
            "236/238 [============================>.] - ETA: 0s - loss: 0.4191 - accuracy: 0.8826WARNING:tensorflow:Can save best model only with val_acc available, skipping.\n",
            "238/238 [==============================] - 4s 19ms/step - loss: 0.4189 - accuracy: 0.8827 - val_loss: 0.3856 - val_accuracy: 0.9027\n",
            "Epoch 10/70\n",
            "236/238 [============================>.] - ETA: 0s - loss: 0.3912 - accuracy: 0.8942WARNING:tensorflow:Can save best model only with val_acc available, skipping.\n",
            "238/238 [==============================] - 5s 21ms/step - loss: 0.3910 - accuracy: 0.8942 - val_loss: 0.3695 - val_accuracy: 0.9040\n",
            "Epoch 11/70\n",
            "237/238 [============================>.] - ETA: 0s - loss: 0.3711 - accuracy: 0.8993WARNING:tensorflow:Can save best model only with val_acc available, skipping.\n",
            "238/238 [==============================] - 4s 18ms/step - loss: 0.3711 - accuracy: 0.8993 - val_loss: 0.3566 - val_accuracy: 0.9070\n",
            "Epoch 12/70\n",
            "237/238 [============================>.] - ETA: 0s - loss: 0.3577 - accuracy: 0.9018WARNING:tensorflow:Can save best model only with val_acc available, skipping.\n",
            "238/238 [==============================] - 5s 19ms/step - loss: 0.3576 - accuracy: 0.9018 - val_loss: 0.3466 - val_accuracy: 0.9055\n",
            "Epoch 13/70\n",
            "237/238 [============================>.] - ETA: 0s - loss: 0.3452 - accuracy: 0.9046WARNING:tensorflow:Can save best model only with val_acc available, skipping.\n",
            "238/238 [==============================] - 4s 18ms/step - loss: 0.3452 - accuracy: 0.9046 - val_loss: 0.3447 - val_accuracy: 0.9020\n",
            "Epoch 14/70\n",
            "237/238 [============================>.] - ETA: 0s - loss: 0.3326 - accuracy: 0.9078WARNING:tensorflow:Can save best model only with val_acc available, skipping.\n",
            "238/238 [==============================] - 4s 18ms/step - loss: 0.3323 - accuracy: 0.9078 - val_loss: 0.3109 - val_accuracy: 0.9179\n",
            "Epoch 15/70\n",
            "237/238 [============================>.] - ETA: 0s - loss: 0.3272 - accuracy: 0.9090WARNING:tensorflow:Can save best model only with val_acc available, skipping.\n",
            "238/238 [==============================] - 4s 18ms/step - loss: 0.3271 - accuracy: 0.9090 - val_loss: 0.3084 - val_accuracy: 0.9162\n",
            "Epoch 16/70\n",
            "235/238 [============================>.] - ETA: 0s - loss: 0.3152 - accuracy: 0.9123WARNING:tensorflow:Can save best model only with val_acc available, skipping.\n",
            "238/238 [==============================] - 5s 19ms/step - loss: 0.3155 - accuracy: 0.9122 - val_loss: 0.3062 - val_accuracy: 0.9128\n",
            "Epoch 17/70\n",
            "235/238 [============================>.] - ETA: 0s - loss: 0.2990 - accuracy: 0.9186WARNING:tensorflow:Can save best model only with val_acc available, skipping.\n",
            "238/238 [==============================] - 4s 18ms/step - loss: 0.2989 - accuracy: 0.9186 - val_loss: 0.2823 - val_accuracy: 0.9214\n",
            "Epoch 18/70\n",
            "236/238 [============================>.] - ETA: 0s - loss: 0.2876 - accuracy: 0.9218WARNING:tensorflow:Can save best model only with val_acc available, skipping.\n",
            "238/238 [==============================] - 4s 18ms/step - loss: 0.2878 - accuracy: 0.9218 - val_loss: 0.2924 - val_accuracy: 0.9168\n",
            "Epoch 19/70\n",
            "237/238 [============================>.] - ETA: 0s - loss: 0.2813 - accuracy: 0.9233WARNING:tensorflow:Can save best model only with val_acc available, skipping.\n",
            "238/238 [==============================] - 4s 18ms/step - loss: 0.2814 - accuracy: 0.9233 - val_loss: 0.2692 - val_accuracy: 0.9306\n",
            "Epoch 20/70\n",
            "237/238 [============================>.] - ETA: 0s - loss: 0.2663 - accuracy: 0.9280WARNING:tensorflow:Can save best model only with val_acc available, skipping.\n",
            "238/238 [==============================] - 5s 19ms/step - loss: 0.2661 - accuracy: 0.9281 - val_loss: 0.2540 - val_accuracy: 0.9344\n",
            "Epoch 21/70\n",
            "235/238 [============================>.] - ETA: 0s - loss: 0.2595 - accuracy: 0.9291WARNING:tensorflow:Can save best model only with val_acc available, skipping.\n",
            "238/238 [==============================] - 5s 19ms/step - loss: 0.2594 - accuracy: 0.9292 - val_loss: 0.2601 - val_accuracy: 0.9253\n",
            "Epoch 22/70\n",
            "237/238 [============================>.] - ETA: 0s - loss: 0.2464 - accuracy: 0.9334WARNING:tensorflow:Can save best model only with val_acc available, skipping.\n",
            "238/238 [==============================] - 5s 20ms/step - loss: 0.2464 - accuracy: 0.9334 - val_loss: 0.2273 - val_accuracy: 0.9424\n",
            "Epoch 23/70\n",
            "236/238 [============================>.] - ETA: 0s - loss: 0.2332 - accuracy: 0.9378WARNING:tensorflow:Can save best model only with val_acc available, skipping.\n",
            "238/238 [==============================] - 4s 18ms/step - loss: 0.2329 - accuracy: 0.9379 - val_loss: 0.2183 - val_accuracy: 0.9463\n",
            "Epoch 24/70\n",
            "235/238 [============================>.] - ETA: 0s - loss: 0.2189 - accuracy: 0.9422WARNING:tensorflow:Can save best model only with val_acc available, skipping.\n",
            "238/238 [==============================] - 5s 19ms/step - loss: 0.2186 - accuracy: 0.9423 - val_loss: 0.2004 - val_accuracy: 0.9502\n",
            "Epoch 25/70\n",
            "238/238 [==============================] - ETA: 0s - loss: 0.2181 - accuracy: 0.9411WARNING:tensorflow:Can save best model only with val_acc available, skipping.\n",
            "238/238 [==============================] - 4s 18ms/step - loss: 0.2181 - accuracy: 0.9411 - val_loss: 0.1992 - val_accuracy: 0.9467\n",
            "Epoch 26/70\n",
            "237/238 [============================>.] - ETA: 0s - loss: 0.2012 - accuracy: 0.9466WARNING:tensorflow:Can save best model only with val_acc available, skipping.\n",
            "238/238 [==============================] - 5s 19ms/step - loss: 0.2012 - accuracy: 0.9466 - val_loss: 0.2121 - val_accuracy: 0.9404\n",
            "Epoch 27/70\n",
            "238/238 [==============================] - ETA: 0s - loss: 0.2005 - accuracy: 0.9465WARNING:tensorflow:Can save best model only with val_acc available, skipping.\n",
            "238/238 [==============================] - 4s 18ms/step - loss: 0.2005 - accuracy: 0.9465 - val_loss: 0.1904 - val_accuracy: 0.9503\n",
            "Epoch 28/70\n",
            "237/238 [============================>.] - ETA: 0s - loss: 0.1892 - accuracy: 0.9496WARNING:tensorflow:Can save best model only with val_acc available, skipping.\n",
            "238/238 [==============================] - 4s 18ms/step - loss: 0.1890 - accuracy: 0.9496 - val_loss: 0.1694 - val_accuracy: 0.9561\n",
            "Epoch 29/70\n",
            "237/238 [============================>.] - ETA: 0s - loss: 0.1797 - accuracy: 0.9529WARNING:tensorflow:Can save best model only with val_acc available, skipping.\n",
            "238/238 [==============================] - 5s 19ms/step - loss: 0.1796 - accuracy: 0.9529 - val_loss: 0.1663 - val_accuracy: 0.9565\n",
            "Epoch 30/70\n",
            "235/238 [============================>.] - ETA: 0s - loss: 0.1788 - accuracy: 0.9525WARNING:tensorflow:Can save best model only with val_acc available, skipping.\n",
            "238/238 [==============================] - 4s 18ms/step - loss: 0.1795 - accuracy: 0.9523 - val_loss: 0.2477 - val_accuracy: 0.9364\n",
            "Epoch 31/70\n",
            "235/238 [============================>.] - ETA: 0s - loss: 0.1704 - accuracy: 0.9552WARNING:tensorflow:Can save best model only with val_acc available, skipping.\n",
            "238/238 [==============================] - 5s 19ms/step - loss: 0.1703 - accuracy: 0.9552 - val_loss: 0.1609 - val_accuracy: 0.9580\n",
            "Epoch 32/70\n",
            "238/238 [==============================] - ETA: 0s - loss: 0.1590 - accuracy: 0.9580WARNING:tensorflow:Can save best model only with val_acc available, skipping.\n",
            "238/238 [==============================] - 5s 19ms/step - loss: 0.1590 - accuracy: 0.9580 - val_loss: 0.1450 - val_accuracy: 0.9644\n",
            "Epoch 33/70\n",
            "236/238 [============================>.] - ETA: 0s - loss: 0.1601 - accuracy: 0.9574WARNING:tensorflow:Can save best model only with val_acc available, skipping.\n",
            "238/238 [==============================] - 5s 19ms/step - loss: 0.1603 - accuracy: 0.9574 - val_loss: 0.1708 - val_accuracy: 0.9529\n",
            "Epoch 34/70\n",
            "237/238 [============================>.] - ETA: 0s - loss: 0.1531 - accuracy: 0.9595WARNING:tensorflow:Can save best model only with val_acc available, skipping.\n",
            "238/238 [==============================] - 5s 19ms/step - loss: 0.1532 - accuracy: 0.9594 - val_loss: 0.1442 - val_accuracy: 0.9625\n",
            "Epoch 35/70\n",
            "237/238 [============================>.] - ETA: 0s - loss: 0.1489 - accuracy: 0.9603WARNING:tensorflow:Can save best model only with val_acc available, skipping.\n",
            "238/238 [==============================] - 4s 18ms/step - loss: 0.1487 - accuracy: 0.9603 - val_loss: 0.1695 - val_accuracy: 0.9519\n",
            "Epoch 36/70\n",
            "236/238 [============================>.] - ETA: 0s - loss: 0.1462 - accuracy: 0.9608WARNING:tensorflow:Can save best model only with val_acc available, skipping.\n",
            "238/238 [==============================] - 5s 19ms/step - loss: 0.1464 - accuracy: 0.9607 - val_loss: 0.1471 - val_accuracy: 0.9601\n",
            "Epoch 37/70\n",
            "235/238 [============================>.] - ETA: 0s - loss: 0.1486 - accuracy: 0.9605WARNING:tensorflow:Can save best model only with val_acc available, skipping.\n",
            "238/238 [==============================] - 5s 19ms/step - loss: 0.1487 - accuracy: 0.9605 - val_loss: 0.1420 - val_accuracy: 0.9606\n",
            "Epoch 38/70\n",
            "237/238 [============================>.] - ETA: 0s - loss: 0.1324 - accuracy: 0.9651WARNING:tensorflow:Can save best model only with val_acc available, skipping.\n",
            "238/238 [==============================] - 5s 19ms/step - loss: 0.1324 - accuracy: 0.9651 - val_loss: 0.1580 - val_accuracy: 0.9586\n",
            "Epoch 39/70\n",
            "238/238 [==============================] - ETA: 0s - loss: 0.1290 - accuracy: 0.9659WARNING:tensorflow:Can save best model only with val_acc available, skipping.\n",
            "238/238 [==============================] - 5s 19ms/step - loss: 0.1290 - accuracy: 0.9659 - val_loss: 0.1176 - val_accuracy: 0.9720\n",
            "Epoch 40/70\n",
            "237/238 [============================>.] - ETA: 0s - loss: 0.1328 - accuracy: 0.9647WARNING:tensorflow:Can save best model only with val_acc available, skipping.\n",
            "238/238 [==============================] - 5s 22ms/step - loss: 0.1328 - accuracy: 0.9647 - val_loss: 0.1329 - val_accuracy: 0.9665\n",
            "Epoch 41/70\n",
            "237/238 [============================>.] - ETA: 0s - loss: 0.1205 - accuracy: 0.9687WARNING:tensorflow:Can save best model only with val_acc available, skipping.\n",
            "238/238 [==============================] - 4s 18ms/step - loss: 0.1205 - accuracy: 0.9687 - val_loss: 0.1116 - val_accuracy: 0.9718\n",
            "Epoch 42/70\n",
            "236/238 [============================>.] - ETA: 0s - loss: 0.1175 - accuracy: 0.9696WARNING:tensorflow:Can save best model only with val_acc available, skipping.\n",
            "238/238 [==============================] - 5s 19ms/step - loss: 0.1176 - accuracy: 0.9695 - val_loss: 0.1402 - val_accuracy: 0.9654\n",
            "Epoch 43/70\n",
            "235/238 [============================>.] - ETA: 0s - loss: 0.1175 - accuracy: 0.9696WARNING:tensorflow:Can save best model only with val_acc available, skipping.\n",
            "238/238 [==============================] - 4s 18ms/step - loss: 0.1176 - accuracy: 0.9696 - val_loss: 0.1073 - val_accuracy: 0.9726\n",
            "Epoch 44/70\n",
            "236/238 [============================>.] - ETA: 0s - loss: 0.1124 - accuracy: 0.9703WARNING:tensorflow:Can save best model only with val_acc available, skipping.\n",
            "238/238 [==============================] - 5s 19ms/step - loss: 0.1128 - accuracy: 0.9702 - val_loss: 0.1189 - val_accuracy: 0.9711\n",
            "Epoch 45/70\n",
            "237/238 [============================>.] - ETA: 0s - loss: 0.1078 - accuracy: 0.9710WARNING:tensorflow:Can save best model only with val_acc available, skipping.\n",
            "238/238 [==============================] - 5s 19ms/step - loss: 0.1078 - accuracy: 0.9710 - val_loss: 0.1036 - val_accuracy: 0.9736\n",
            "Epoch 46/70\n",
            "238/238 [==============================] - ETA: 0s - loss: 0.1057 - accuracy: 0.9719WARNING:tensorflow:Can save best model only with val_acc available, skipping.\n",
            "238/238 [==============================] - 4s 18ms/step - loss: 0.1057 - accuracy: 0.9719 - val_loss: 0.1012 - val_accuracy: 0.9748\n",
            "Epoch 47/70\n",
            "236/238 [============================>.] - ETA: 0s - loss: 0.1031 - accuracy: 0.9726WARNING:tensorflow:Can save best model only with val_acc available, skipping.\n",
            "238/238 [==============================] - 4s 18ms/step - loss: 0.1032 - accuracy: 0.9725 - val_loss: 0.1020 - val_accuracy: 0.9731\n",
            "Epoch 48/70\n",
            "236/238 [============================>.] - ETA: 0s - loss: 0.1010 - accuracy: 0.9731WARNING:tensorflow:Can save best model only with val_acc available, skipping.\n",
            "238/238 [==============================] - 5s 19ms/step - loss: 0.1009 - accuracy: 0.9732 - val_loss: 0.1028 - val_accuracy: 0.9741\n",
            "Epoch 49/70\n",
            "236/238 [============================>.] - ETA: 0s - loss: 0.1024 - accuracy: 0.9731WARNING:tensorflow:Can save best model only with val_acc available, skipping.\n",
            "238/238 [==============================] - 4s 18ms/step - loss: 0.1023 - accuracy: 0.9731 - val_loss: 0.0911 - val_accuracy: 0.9765\n",
            "Epoch 50/70\n",
            "235/238 [============================>.] - ETA: 0s - loss: 0.0952 - accuracy: 0.9746WARNING:tensorflow:Can save best model only with val_acc available, skipping.\n",
            "238/238 [==============================] - 4s 18ms/step - loss: 0.0954 - accuracy: 0.9745 - val_loss: 0.0902 - val_accuracy: 0.9768\n",
            "Epoch 51/70\n",
            "237/238 [============================>.] - ETA: 0s - loss: 0.0960 - accuracy: 0.9743WARNING:tensorflow:Can save best model only with val_acc available, skipping.\n",
            "238/238 [==============================] - 5s 19ms/step - loss: 0.0962 - accuracy: 0.9742 - val_loss: 0.0957 - val_accuracy: 0.9767\n",
            "Epoch 52/70\n",
            "238/238 [==============================] - ETA: 0s - loss: 0.0898 - accuracy: 0.9761WARNING:tensorflow:Can save best model only with val_acc available, skipping.\n",
            "238/238 [==============================] - 4s 18ms/step - loss: 0.0898 - accuracy: 0.9761 - val_loss: 0.0914 - val_accuracy: 0.9778\n",
            "Epoch 53/70\n",
            "236/238 [============================>.] - ETA: 0s - loss: 0.0889 - accuracy: 0.9761WARNING:tensorflow:Can save best model only with val_acc available, skipping.\n",
            "238/238 [==============================] - 4s 18ms/step - loss: 0.0887 - accuracy: 0.9761 - val_loss: 0.0854 - val_accuracy: 0.9791\n",
            "Epoch 54/70\n",
            "237/238 [============================>.] - ETA: 0s - loss: 0.0857 - accuracy: 0.9770WARNING:tensorflow:Can save best model only with val_acc available, skipping.\n",
            "238/238 [==============================] - 4s 18ms/step - loss: 0.0856 - accuracy: 0.9770 - val_loss: 0.0898 - val_accuracy: 0.9760\n",
            "Epoch 55/70\n",
            "235/238 [============================>.] - ETA: 0s - loss: 0.0830 - accuracy: 0.9773WARNING:tensorflow:Can save best model only with val_acc available, skipping.\n",
            "238/238 [==============================] - 5s 19ms/step - loss: 0.0836 - accuracy: 0.9771 - val_loss: 0.0898 - val_accuracy: 0.9774\n",
            "Epoch 56/70\n",
            "236/238 [============================>.] - ETA: 0s - loss: 0.0832 - accuracy: 0.9777WARNING:tensorflow:Can save best model only with val_acc available, skipping.\n",
            "238/238 [==============================] - 5s 19ms/step - loss: 0.0833 - accuracy: 0.9778 - val_loss: 0.0862 - val_accuracy: 0.9770\n",
            "Epoch 57/70\n",
            "236/238 [============================>.] - ETA: 0s - loss: 0.0820 - accuracy: 0.9779WARNING:tensorflow:Can save best model only with val_acc available, skipping.\n",
            "238/238 [==============================] - 5s 19ms/step - loss: 0.0819 - accuracy: 0.9780 - val_loss: 0.0783 - val_accuracy: 0.9798\n",
            "Epoch 58/70\n",
            "236/238 [============================>.] - ETA: 0s - loss: 0.0774 - accuracy: 0.9790WARNING:tensorflow:Can save best model only with val_acc available, skipping.\n",
            "238/238 [==============================] - 4s 18ms/step - loss: 0.0773 - accuracy: 0.9790 - val_loss: 0.0816 - val_accuracy: 0.9794\n",
            "Epoch 59/70\n",
            "236/238 [============================>.] - ETA: 0s - loss: 0.0742 - accuracy: 0.9802WARNING:tensorflow:Can save best model only with val_acc available, skipping.\n",
            "238/238 [==============================] - 5s 19ms/step - loss: 0.0740 - accuracy: 0.9803 - val_loss: 0.0873 - val_accuracy: 0.9767\n",
            "Epoch 60/70\n",
            "236/238 [============================>.] - ETA: 0s - loss: 0.0761 - accuracy: 0.9793WARNING:tensorflow:Can save best model only with val_acc available, skipping.\n",
            "238/238 [==============================] - 5s 19ms/step - loss: 0.0760 - accuracy: 0.9792 - val_loss: 0.0779 - val_accuracy: 0.9798\n",
            "Epoch 61/70\n",
            "236/238 [============================>.] - ETA: 0s - loss: 0.0726 - accuracy: 0.9801WARNING:tensorflow:Can save best model only with val_acc available, skipping.\n",
            "238/238 [==============================] - 5s 19ms/step - loss: 0.0726 - accuracy: 0.9801 - val_loss: 0.0714 - val_accuracy: 0.9813\n",
            "Epoch 62/70\n",
            "235/238 [============================>.] - ETA: 0s - loss: 0.0765 - accuracy: 0.9791WARNING:tensorflow:Can save best model only with val_acc available, skipping.\n",
            "238/238 [==============================] - 4s 18ms/step - loss: 0.0763 - accuracy: 0.9792 - val_loss: 0.0839 - val_accuracy: 0.9755\n",
            "Epoch 63/70\n",
            "237/238 [============================>.] - ETA: 0s - loss: 0.0745 - accuracy: 0.9797WARNING:tensorflow:Can save best model only with val_acc available, skipping.\n",
            "238/238 [==============================] - 5s 19ms/step - loss: 0.0745 - accuracy: 0.9797 - val_loss: 0.0713 - val_accuracy: 0.9816\n",
            "Epoch 64/70\n",
            "238/238 [==============================] - ETA: 0s - loss: 0.0703 - accuracy: 0.9804WARNING:tensorflow:Can save best model only with val_acc available, skipping.\n",
            "238/238 [==============================] - 4s 18ms/step - loss: 0.0703 - accuracy: 0.9804 - val_loss: 0.0718 - val_accuracy: 0.9806\n",
            "Epoch 65/70\n",
            "237/238 [============================>.] - ETA: 0s - loss: 0.0705 - accuracy: 0.9808WARNING:tensorflow:Can save best model only with val_acc available, skipping.\n",
            "238/238 [==============================] - 4s 18ms/step - loss: 0.0705 - accuracy: 0.9808 - val_loss: 0.0646 - val_accuracy: 0.9838\n",
            "Epoch 66/70\n",
            "236/238 [============================>.] - ETA: 0s - loss: 0.0634 - accuracy: 0.9823WARNING:tensorflow:Can save best model only with val_acc available, skipping.\n",
            "238/238 [==============================] - 4s 18ms/step - loss: 0.0634 - accuracy: 0.9824 - val_loss: 0.0719 - val_accuracy: 0.9807\n",
            "Epoch 67/70\n",
            "235/238 [============================>.] - ETA: 0s - loss: 0.0693 - accuracy: 0.9808WARNING:tensorflow:Can save best model only with val_acc available, skipping.\n",
            "238/238 [==============================] - 4s 18ms/step - loss: 0.0695 - accuracy: 0.9808 - val_loss: 0.0787 - val_accuracy: 0.9786\n",
            "Epoch 68/70\n",
            "235/238 [============================>.] - ETA: 0s - loss: 0.0624 - accuracy: 0.9831WARNING:tensorflow:Can save best model only with val_acc available, skipping.\n",
            "238/238 [==============================] - 5s 19ms/step - loss: 0.0624 - accuracy: 0.9830 - val_loss: 0.0638 - val_accuracy: 0.9825\n",
            "Epoch 69/70\n",
            "238/238 [==============================] - ETA: 0s - loss: 0.0638 - accuracy: 0.9822WARNING:tensorflow:Can save best model only with val_acc available, skipping.\n",
            "238/238 [==============================] - 4s 18ms/step - loss: 0.0638 - accuracy: 0.9822 - val_loss: 0.0666 - val_accuracy: 0.9818\n",
            "Epoch 70/70\n",
            "235/238 [============================>.] - ETA: 0s - loss: 0.0637 - accuracy: 0.9822WARNING:tensorflow:Can save best model only with val_acc available, skipping.\n",
            "238/238 [==============================] - 5s 19ms/step - loss: 0.0635 - accuracy: 0.9822 - val_loss: 0.0620 - val_accuracy: 0.9827\n"
          ]
        }
      ],
      "source": [
        "history=model.fit(X_train, Y_train, epochs=70,verbose=1,batch_size=500,validation_data=(X_test, Y_test),callbacks=[checkpointer])"
      ]
    },
    {
      "cell_type": "code",
      "execution_count": 26,
      "metadata": {
        "id": "Fz0ak2FcsGBm",
        "colab": {
          "base_uri": "https://localhost:8080/",
          "height": 295
        },
        "outputId": "bf71b905-b612-402f-cf39-8a0441d09fd6"
      },
      "outputs": [
        {
          "output_type": "display_data",
          "data": {
            "text/plain": [
              "<Figure size 432x288 with 1 Axes>"
            ],
            "image/png": "[encoded data removed]"
          },
          "metadata": {
            "needs_background": "light"
          }
        }
      ],
      "source": [
        "plt.plot(history.history['accuracy'])\n",
        "plt.plot(history.history['val_accuracy'])\n",
        "plt.title('model accuracy')\n",
        "plt.ylabel('accuracy')\n",
        "plt.xlabel('epoch')\n",
        "plt.legend(['train','test'], loc='upper left')\n",
        "plt.show()"
      ]
    },
    {
      "cell_type": "code",
      "execution_count": 27,
      "metadata": {
        "id": "ke4AYGUMvb-r",
        "colab": {
          "base_uri": "https://localhost:8080/",
          "height": 295
        },
        "outputId": "9afeb74f-9c49-4a1d-96cd-f432ac32aef2"
      },
      "outputs": [
        {
          "output_type": "display_data",
          "data": {
            "text/plain": [
              "<Figure size 432x288 with 1 Axes>"
            ],
            "image/png": "[encoded data removed]"
          },
          "metadata": {
            "needs_background": "light"
          }
        }
      ],
      "source": [
        "plt.plot(history.history['loss'])\n",
        "plt.plot(history.history['val_loss'])\n",
        "plt.title('model loss')\n",
        "plt.ylabel('loss')\n",
        "plt.xlabel('epoch')\n",
        "plt.legend(['train','test'], loc='upper left')\n",
        "plt.show()"
      ]
    }
  ],
  "metadata": {
    "accelerator": "GPU",
    "colab": {
      "name": "Untitled1.ipynb",
      "provenance": []
    },
    "kernelspec": {
      "display_name": "Python 3",
      "name": "python3"
    },
    "language_info": {
      "name": "python"
    }
  },
  "nbformat": 4,
  "nbformat_minor": 0
}