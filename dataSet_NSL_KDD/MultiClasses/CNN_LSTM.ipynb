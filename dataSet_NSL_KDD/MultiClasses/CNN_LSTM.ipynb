{
 "cells": [
  {
   "cell_type": "code",
   "execution_count": 1,
   "id": "d0c78460",
   "metadata": {},
   "outputs": [],
   "source": [
    "from __future__ import print_function\n",
    "import numpy as np\n",
    "np.random.seed(1337)  # for reproducibility\n",
    "from keras.preprocessing import sequence\n",
    "from keras.models import Sequential\n",
    "from keras.layers import Dense, Dropout, Activation, Lambda\n",
    "from keras.layers import Embedding\n",
    "from keras.layers import Convolution1D,MaxPooling1D, Flatten\n",
    "from keras.datasets import imdb\n",
    "from keras import backend as K\n",
    "from sklearn.model_selection import train_test_split\n",
    "import pandas as pd\n",
    "from keras.utils.np_utils import to_categorical\n",
    "from sklearn.preprocessing import Normalizer\n",
    "from keras.models import Sequential\n",
    "from keras.layers import Convolution1D, Dense, Dropout, Flatten, MaxPooling1D\n",
    "from keras.utils import np_utils\n",
    "import numpy as np\n",
    "import h5py\n",
    "from keras import callbacks\n",
    "from keras.layers import LSTM, GRU, SimpleRNN\n",
    "from keras.callbacks import CSVLogger\n",
    "from keras.callbacks import ModelCheckpoint, EarlyStopping, ReduceLROnPlateau, CSVLogger\n",
    "from sklearn.preprocessing import LabelEncoder\n",
    "import matplotlib.pyplot as plt"
   ]
  },
  {
   "cell_type": "code",
   "execution_count": 2,
   "id": "a081dcd0",
   "metadata": {},
   "outputs": [],
   "source": [
    "traindata = pd.read_csv('kdd_train.csv')\n",
    "testdata = pd.read_csv('kdd_test.csv')"
   ]
  },
  {
   "cell_type": "code",
   "execution_count": 3,
   "id": "9736000b",
   "metadata": {},
   "outputs": [
    {
     "data": {
      "text/html": [
       "<div>\n",
       "<style scoped>\n",
       "    .dataframe tbody tr th:only-of-type {\n",
       "        vertical-align: middle;\n",
       "    }\n",
       "\n",
       "    .dataframe tbody tr th {\n",
       "        vertical-align: top;\n",
       "    }\n",
       "\n",
       "    .dataframe thead th {\n",
       "        text-align: right;\n",
       "    }\n",
       "</style>\n",
       "<table border=\"1\" class=\"dataframe\">\n",
       "  <thead>\n",
       "    <tr style=\"text-align: right;\">\n",
       "      <th></th>\n",
       "      <th>duration</th>\n",
       "      <th>protocol_type</th>\n",
       "      <th>service</th>\n",
       "      <th>flag</th>\n",
       "      <th>src_bytes</th>\n",
       "      <th>dst_bytes</th>\n",
       "      <th>land</th>\n",
       "      <th>wrong_fragment</th>\n",
       "      <th>urgent</th>\n",
       "      <th>hot</th>\n",
       "      <th>...</th>\n",
       "      <th>dst_host_srv_count</th>\n",
       "      <th>dst_host_same_srv_rate</th>\n",
       "      <th>dst_host_diff_srv_rate</th>\n",
       "      <th>dst_host_same_src_port_rate</th>\n",
       "      <th>dst_host_srv_diff_host_rate</th>\n",
       "      <th>dst_host_serror_rate</th>\n",
       "      <th>dst_host_srv_serror_rate</th>\n",
       "      <th>dst_host_rerror_rate</th>\n",
       "      <th>dst_host_srv_rerror_rate</th>\n",
       "      <th>labels</th>\n",
       "    </tr>\n",
       "  </thead>\n",
       "  <tbody>\n",
       "    <tr>\n",
       "      <th>0</th>\n",
       "      <td>0</td>\n",
       "      <td>tcp</td>\n",
       "      <td>ftp_data</td>\n",
       "      <td>SF</td>\n",
       "      <td>491</td>\n",
       "      <td>0</td>\n",
       "      <td>0</td>\n",
       "      <td>0</td>\n",
       "      <td>0</td>\n",
       "      <td>0</td>\n",
       "      <td>...</td>\n",
       "      <td>25</td>\n",
       "      <td>0.17</td>\n",
       "      <td>0.03</td>\n",
       "      <td>0.17</td>\n",
       "      <td>0.00</td>\n",
       "      <td>0.00</td>\n",
       "      <td>0.00</td>\n",
       "      <td>0.05</td>\n",
       "      <td>0.00</td>\n",
       "      <td>normal</td>\n",
       "    </tr>\n",
       "    <tr>\n",
       "      <th>1</th>\n",
       "      <td>0</td>\n",
       "      <td>udp</td>\n",
       "      <td>other</td>\n",
       "      <td>SF</td>\n",
       "      <td>146</td>\n",
       "      <td>0</td>\n",
       "      <td>0</td>\n",
       "      <td>0</td>\n",
       "      <td>0</td>\n",
       "      <td>0</td>\n",
       "      <td>...</td>\n",
       "      <td>1</td>\n",
       "      <td>0.00</td>\n",
       "      <td>0.60</td>\n",
       "      <td>0.88</td>\n",
       "      <td>0.00</td>\n",
       "      <td>0.00</td>\n",
       "      <td>0.00</td>\n",
       "      <td>0.00</td>\n",
       "      <td>0.00</td>\n",
       "      <td>normal</td>\n",
       "    </tr>\n",
       "    <tr>\n",
       "      <th>2</th>\n",
       "      <td>0</td>\n",
       "      <td>tcp</td>\n",
       "      <td>private</td>\n",
       "      <td>S0</td>\n",
       "      <td>0</td>\n",
       "      <td>0</td>\n",
       "      <td>0</td>\n",
       "      <td>0</td>\n",
       "      <td>0</td>\n",
       "      <td>0</td>\n",
       "      <td>...</td>\n",
       "      <td>26</td>\n",
       "      <td>0.10</td>\n",
       "      <td>0.05</td>\n",
       "      <td>0.00</td>\n",
       "      <td>0.00</td>\n",
       "      <td>1.00</td>\n",
       "      <td>1.00</td>\n",
       "      <td>0.00</td>\n",
       "      <td>0.00</td>\n",
       "      <td>neptune</td>\n",
       "    </tr>\n",
       "    <tr>\n",
       "      <th>3</th>\n",
       "      <td>0</td>\n",
       "      <td>tcp</td>\n",
       "      <td>http</td>\n",
       "      <td>SF</td>\n",
       "      <td>232</td>\n",
       "      <td>8153</td>\n",
       "      <td>0</td>\n",
       "      <td>0</td>\n",
       "      <td>0</td>\n",
       "      <td>0</td>\n",
       "      <td>...</td>\n",
       "      <td>255</td>\n",
       "      <td>1.00</td>\n",
       "      <td>0.00</td>\n",
       "      <td>0.03</td>\n",
       "      <td>0.04</td>\n",
       "      <td>0.03</td>\n",
       "      <td>0.01</td>\n",
       "      <td>0.00</td>\n",
       "      <td>0.01</td>\n",
       "      <td>normal</td>\n",
       "    </tr>\n",
       "    <tr>\n",
       "      <th>4</th>\n",
       "      <td>0</td>\n",
       "      <td>tcp</td>\n",
       "      <td>http</td>\n",
       "      <td>SF</td>\n",
       "      <td>199</td>\n",
       "      <td>420</td>\n",
       "      <td>0</td>\n",
       "      <td>0</td>\n",
       "      <td>0</td>\n",
       "      <td>0</td>\n",
       "      <td>...</td>\n",
       "      <td>255</td>\n",
       "      <td>1.00</td>\n",
       "      <td>0.00</td>\n",
       "      <td>0.00</td>\n",
       "      <td>0.00</td>\n",
       "      <td>0.00</td>\n",
       "      <td>0.00</td>\n",
       "      <td>0.00</td>\n",
       "      <td>0.00</td>\n",
       "      <td>normal</td>\n",
       "    </tr>\n",
       "  </tbody>\n",
       "</table>\n",
       "<p>5 rows × 42 columns</p>\n",
       "</div>"
      ],
      "text/plain": [
       "   duration protocol_type   service flag  src_bytes  dst_bytes  land  \\\n",
       "0         0           tcp  ftp_data   SF        491          0     0   \n",
       "1         0           udp     other   SF        146          0     0   \n",
       "2         0           tcp   private   S0          0          0     0   \n",
       "3         0           tcp      http   SF        232       8153     0   \n",
       "4         0           tcp      http   SF        199        420     0   \n",
       "\n",
       "   wrong_fragment  urgent  hot  ...  dst_host_srv_count  \\\n",
       "0               0       0    0  ...                  25   \n",
       "1               0       0    0  ...                   1   \n",
       "2               0       0    0  ...                  26   \n",
       "3               0       0    0  ...                 255   \n",
       "4               0       0    0  ...                 255   \n",
       "\n",
       "   dst_host_same_srv_rate  dst_host_diff_srv_rate  \\\n",
       "0                    0.17                    0.03   \n",
       "1                    0.00                    0.60   \n",
       "2                    0.10                    0.05   \n",
       "3                    1.00                    0.00   \n",
       "4                    1.00                    0.00   \n",
       "\n",
       "   dst_host_same_src_port_rate  dst_host_srv_diff_host_rate  \\\n",
       "0                         0.17                         0.00   \n",
       "1                         0.88                         0.00   \n",
       "2                         0.00                         0.00   \n",
       "3                         0.03                         0.04   \n",
       "4                         0.00                         0.00   \n",
       "\n",
       "   dst_host_serror_rate  dst_host_srv_serror_rate  dst_host_rerror_rate  \\\n",
       "0                  0.00                      0.00                  0.05   \n",
       "1                  0.00                      0.00                  0.00   \n",
       "2                  1.00                      1.00                  0.00   \n",
       "3                  0.03                      0.01                  0.00   \n",
       "4                  0.00                      0.00                  0.00   \n",
       "\n",
       "   dst_host_srv_rerror_rate   labels  \n",
       "0                      0.00   normal  \n",
       "1                      0.00   normal  \n",
       "2                      0.00  neptune  \n",
       "3                      0.01   normal  \n",
       "4                      0.00   normal  \n",
       "\n",
       "[5 rows x 42 columns]"
      ]
     },
     "execution_count": 3,
     "metadata": {},
     "output_type": "execute_result"
    }
   ],
   "source": [
    "data = pd.concat([traindata,testdata])\n",
    "data.head()"
   ]
  },
  {
   "cell_type": "code",
   "execution_count": 4,
   "id": "d7e66288",
   "metadata": {},
   "outputs": [],
   "source": [
    "categ = ['protocol_type','service','flag','labels']\n",
    "# Encode Categorical Columns\n",
    "le = LabelEncoder()\n",
    "data[categ] = data[categ].apply(le.fit_transform)"
   ]
  },
  {
   "cell_type": "code",
   "execution_count": 5,
   "id": "18a96d1b",
   "metadata": {},
   "outputs": [],
   "source": [
    "X = data.iloc[:,1:41]\n",
    "Y = data['labels']\n"
   ]
  },
  {
   "cell_type": "code",
   "execution_count": 6,
   "id": "913a0d36",
   "metadata": {},
   "outputs": [],
   "source": [
    "scaler = Normalizer().fit(X)\n",
    "X = scaler.transform(X)"
   ]
  },
  {
   "cell_type": "code",
   "execution_count": 7,
   "id": "3f4a1820",
   "metadata": {},
   "outputs": [],
   "source": [
    "X_train, X_test,Y_train,Y_test = train_test_split(X,Y, test_size=0.2)"
   ]
  },
  {
   "cell_type": "code",
   "execution_count": 8,
   "id": "142e9d6f",
   "metadata": {},
   "outputs": [],
   "source": [
    "# reshape input to be [samples, time steps, features]\n",
    "X_train = np.reshape(X_train, (X_train.shape[0],X_train.shape[1],1))\n",
    "X_test = np.reshape(X_test, (X_test.shape[0],X_test.shape[1],1))\n"
   ]
  },
  {
   "cell_type": "code",
   "execution_count": 9,
   "id": "12246088",
   "metadata": {},
   "outputs": [
    {
     "data": {
      "text/plain": [
       "(118813, 40, 1)"
      ]
     },
     "execution_count": 9,
     "metadata": {},
     "output_type": "execute_result"
    }
   ],
   "source": [
    "X_train.shape"
   ]
  },
  {
   "cell_type": "code",
   "execution_count": 10,
   "id": "4c836e28",
   "metadata": {},
   "outputs": [
    {
     "data": {
      "text/plain": [
       "(118813,)"
      ]
     },
     "execution_count": 10,
     "metadata": {},
     "output_type": "execute_result"
    }
   ],
   "source": [
    "Y_train.shape"
   ]
  },
  {
   "cell_type": "code",
   "execution_count": 11,
   "id": "9c906b05",
   "metadata": {},
   "outputs": [
    {
     "data": {
      "text/plain": [
       "(29704, 40, 1)"
      ]
     },
     "execution_count": 11,
     "metadata": {},
     "output_type": "execute_result"
    }
   ],
   "source": [
    "X_test.shape"
   ]
  },
  {
   "cell_type": "code",
   "execution_count": 12,
   "id": "d1b85ab8",
   "metadata": {},
   "outputs": [
    {
     "data": {
      "text/plain": [
       "(29704,)"
      ]
     },
     "execution_count": 12,
     "metadata": {},
     "output_type": "execute_result"
    }
   ],
   "source": [
    "Y_test.shape"
   ]
  },
  {
   "cell_type": "code",
   "execution_count": 13,
   "id": "ecc9e786",
   "metadata": {},
   "outputs": [],
   "source": [
    "cnn = Sequential()\n",
    "cnn.add(Convolution1D(128, 3 ,activation=\"relu\",input_shape=(40, 1)))\n",
    "cnn.add(MaxPooling1D(2))\n",
    "cnn.add(LSTM(70))\n",
    "cnn.add(Dropout(0.1))\n",
    "cnn.add(Dense(40, activation=\"softmax\"))\n"
   ]
  },
  {
   "cell_type": "code",
   "execution_count": 14,
   "id": "eb562833",
   "metadata": {},
   "outputs": [],
   "source": [
    "# define optimizer and objective, compile cnn\n",
    "\n",
    "cnn.compile(loss=\"sparse_categorical_crossentropy\", optimizer=\"adam\",metrics=['accuracy'])"
   ]
  },
  {
   "cell_type": "code",
   "execution_count": 15,
   "id": "26623fe5",
   "metadata": {},
   "outputs": [],
   "source": [
    "# train\n",
    "checkpointer = callbacks.ModelCheckpoint(filepath=\"results/cnn1results/checkpoint-{epoch:02d}.hdf5\", verbose=1, save_best_only=True, monitor='val_acc',mode='max')\n"
   ]
  },
  {
   "cell_type": "code",
   "execution_count": 16,
   "id": "fa4b5b88",
   "metadata": {},
   "outputs": [
    {
     "name": "stdout",
     "output_type": "stream",
     "text": [
      "Epoch 1/75\n",
      "238/238 [==============================] - 15s 55ms/step - loss: 1.2703 - accuracy: 0.6680 - val_loss: 0.7017 - val_accuracy: 0.8326\n",
      "WARNING:tensorflow:Can save best model only with val_acc available, skipping.\n",
      "Epoch 2/75\n",
      "238/238 [==============================] - 13s 54ms/step - loss: 0.6529 - accuracy: 0.8368 - val_loss: 0.5763 - val_accuracy: 0.8484\n",
      "WARNING:tensorflow:Can save best model only with val_acc available, skipping.\n",
      "Epoch 3/75\n",
      "238/238 [==============================] - 13s 54ms/step - loss: 0.5662 - accuracy: 0.8559 - val_loss: 0.5046 - val_accuracy: 0.8652\n",
      "WARNING:tensorflow:Can save best model only with val_acc available, skipping.\n",
      "Epoch 4/75\n",
      "238/238 [==============================] - 13s 54ms/step - loss: 0.4795 - accuracy: 0.8702 - val_loss: 0.4616 - val_accuracy: 0.8768\n",
      "WARNING:tensorflow:Can save best model only with val_acc available, skipping.\n",
      "Epoch 5/75\n",
      "238/238 [==============================] - 13s 54ms/step - loss: 0.4287 - accuracy: 0.8886 - val_loss: 0.3793 - val_accuracy: 0.9008\n",
      "WARNING:tensorflow:Can save best model only with val_acc available, skipping.\n",
      "Epoch 6/75\n",
      "238/238 [==============================] - 13s 54ms/step - loss: 0.3881 - accuracy: 0.9006 - val_loss: 0.3553 - val_accuracy: 0.9088\n",
      "WARNING:tensorflow:Can save best model only with val_acc available, skipping.\n",
      "Epoch 7/75\n",
      "238/238 [==============================] - 13s 55ms/step - loss: 0.3564 - accuracy: 0.9082 - val_loss: 0.3416 - val_accuracy: 0.9099\n",
      "WARNING:tensorflow:Can save best model only with val_acc available, skipping.\n",
      "Epoch 8/75\n",
      "238/238 [==============================] - 13s 55ms/step - loss: 0.3507 - accuracy: 0.9113 - val_loss: 0.3046 - val_accuracy: 0.9203\n",
      "WARNING:tensorflow:Can save best model only with val_acc available, skipping.\n",
      "Epoch 9/75\n",
      "238/238 [==============================] - 13s 55ms/step - loss: 0.3147 - accuracy: 0.9185 - val_loss: 0.2791 - val_accuracy: 0.9310\n",
      "WARNING:tensorflow:Can save best model only with val_acc available, skipping.\n",
      "Epoch 10/75\n",
      "238/238 [==============================] - 13s 55ms/step - loss: 0.2925 - accuracy: 0.9233 - val_loss: 0.2560 - val_accuracy: 0.9376\n",
      "WARNING:tensorflow:Can save best model only with val_acc available, skipping.\n",
      "Epoch 11/75\n",
      "238/238 [==============================] - 13s 53ms/step - loss: 0.2732 - accuracy: 0.9285 - val_loss: 0.2365 - val_accuracy: 0.9391\n",
      "WARNING:tensorflow:Can save best model only with val_acc available, skipping.\n",
      "Epoch 12/75\n",
      "238/238 [==============================] - 14s 57ms/step - loss: 0.2515 - accuracy: 0.9328 - val_loss: 0.2150 - val_accuracy: 0.9427\n",
      "WARNING:tensorflow:Can save best model only with val_acc available, skipping.\n",
      "Epoch 13/75\n",
      "238/238 [==============================] - 13s 56ms/step - loss: 0.2318 - accuracy: 0.9378 - val_loss: 0.2102 - val_accuracy: 0.9395\n",
      "WARNING:tensorflow:Can save best model only with val_acc available, skipping.\n",
      "Epoch 14/75\n",
      "238/238 [==============================] - 13s 55ms/step - loss: 0.2177 - accuracy: 0.9406 - val_loss: 0.1920 - val_accuracy: 0.9473\n",
      "WARNING:tensorflow:Can save best model only with val_acc available, skipping.\n",
      "Epoch 15/75\n",
      "238/238 [==============================] - 13s 54ms/step - loss: 0.2045 - accuracy: 0.9445 - val_loss: 0.1730 - val_accuracy: 0.9515\n",
      "WARNING:tensorflow:Can save best model only with val_acc available, skipping.\n",
      "Epoch 16/75\n",
      "238/238 [==============================] - 13s 54ms/step - loss: 0.1932 - accuracy: 0.9476 - val_loss: 0.1755 - val_accuracy: 0.9519\n",
      "WARNING:tensorflow:Can save best model only with val_acc available, skipping.\n",
      "Epoch 17/75\n",
      "238/238 [==============================] - 13s 53ms/step - loss: 0.1874 - accuracy: 0.9491 - val_loss: 0.1716 - val_accuracy: 0.9542\n",
      "WARNING:tensorflow:Can save best model only with val_acc available, skipping.\n",
      "Epoch 18/75\n",
      "238/238 [==============================] - 13s 53ms/step - loss: 0.1752 - accuracy: 0.9522 - val_loss: 0.1519 - val_accuracy: 0.9585\n",
      "WARNING:tensorflow:Can save best model only with val_acc available, skipping.\n",
      "Epoch 19/75\n",
      "238/238 [==============================] - 13s 54ms/step - loss: 0.1715 - accuracy: 0.9520 - val_loss: 0.1530 - val_accuracy: 0.9591\n",
      "WARNING:tensorflow:Can save best model only with val_acc available, skipping.\n",
      "Epoch 20/75\n",
      "238/238 [==============================] - 13s 54ms/step - loss: 0.1622 - accuracy: 0.9551 - val_loss: 0.1481 - val_accuracy: 0.9590\n",
      "WARNING:tensorflow:Can save best model only with val_acc available, skipping.\n",
      "Epoch 21/75\n",
      "238/238 [==============================] - 12s 52ms/step - loss: 0.1597 - accuracy: 0.9553 - val_loss: 0.1375 - val_accuracy: 0.9607\n",
      "WARNING:tensorflow:Can save best model only with val_acc available, skipping.\n",
      "Epoch 22/75\n",
      "238/238 [==============================] - 13s 53ms/step - loss: 0.1480 - accuracy: 0.9586 - val_loss: 0.1469 - val_accuracy: 0.9585\n",
      "WARNING:tensorflow:Can save best model only with val_acc available, skipping.\n",
      "Epoch 23/75\n",
      "238/238 [==============================] - 13s 54ms/step - loss: 0.1475 - accuracy: 0.9597 - val_loss: 0.1525 - val_accuracy: 0.9573\n",
      "WARNING:tensorflow:Can save best model only with val_acc available, skipping.\n",
      "Epoch 24/75\n",
      "238/238 [==============================] - 13s 53ms/step - loss: 0.1446 - accuracy: 0.9597 - val_loss: 0.1281 - val_accuracy: 0.9640\n",
      "WARNING:tensorflow:Can save best model only with val_acc available, skipping.\n",
      "Epoch 25/75\n",
      "238/238 [==============================] - 13s 53ms/step - loss: 0.1453 - accuracy: 0.9596 - val_loss: 0.1291 - val_accuracy: 0.9629\n",
      "WARNING:tensorflow:Can save best model only with val_acc available, skipping.\n",
      "Epoch 26/75\n",
      "238/238 [==============================] - 12s 50ms/step - loss: 0.1397 - accuracy: 0.9604 - val_loss: 0.1238 - val_accuracy: 0.9637\n",
      "WARNING:tensorflow:Can save best model only with val_acc available, skipping.\n",
      "Epoch 27/75\n",
      "238/238 [==============================] - 13s 54ms/step - loss: 0.1380 - accuracy: 0.9604 - val_loss: 0.1192 - val_accuracy: 0.9663\n",
      "WARNING:tensorflow:Can save best model only with val_acc available, skipping.\n",
      "Epoch 28/75\n",
      "238/238 [==============================] - 13s 54ms/step - loss: 0.1368 - accuracy: 0.9616 - val_loss: 0.1180 - val_accuracy: 0.9661\n",
      "WARNING:tensorflow:Can save best model only with val_acc available, skipping.\n",
      "Epoch 29/75\n",
      "238/238 [==============================] - 11s 48ms/step - loss: 0.1307 - accuracy: 0.9629 - val_loss: 0.1291 - val_accuracy: 0.9610\n",
      "WARNING:tensorflow:Can save best model only with val_acc available, skipping.\n",
      "Epoch 30/75\n",
      "238/238 [==============================] - 12s 52ms/step - loss: 0.1285 - accuracy: 0.9631 - val_loss: 0.1132 - val_accuracy: 0.9664\n",
      "WARNING:tensorflow:Can save best model only with val_acc available, skipping.\n",
      "Epoch 31/75\n",
      "238/238 [==============================] - 12s 52ms/step - loss: 0.1279 - accuracy: 0.9635 - val_loss: 0.1162 - val_accuracy: 0.9661\n",
      "WARNING:tensorflow:Can save best model only with val_acc available, skipping.\n",
      "Epoch 32/75\n",
      "238/238 [==============================] - 13s 53ms/step - loss: 0.1260 - accuracy: 0.9643 - val_loss: 0.1206 - val_accuracy: 0.9666\n",
      "WARNING:tensorflow:Can save best model only with val_acc available, skipping.\n",
      "Epoch 33/75\n",
      "238/238 [==============================] - 13s 54ms/step - loss: 0.1267 - accuracy: 0.9636 - val_loss: 0.1128 - val_accuracy: 0.9672\n",
      "WARNING:tensorflow:Can save best model only with val_acc available, skipping.\n",
      "Epoch 34/75\n",
      "238/238 [==============================] - 13s 53ms/step - loss: 0.1234 - accuracy: 0.9638 - val_loss: 0.1177 - val_accuracy: 0.9665\n",
      "WARNING:tensorflow:Can save best model only with val_acc available, skipping.\n",
      "Epoch 35/75\n",
      "238/238 [==============================] - 12s 52ms/step - loss: 0.1236 - accuracy: 0.9642 - val_loss: 0.1100 - val_accuracy: 0.9682\n",
      "WARNING:tensorflow:Can save best model only with val_acc available, skipping.\n",
      "Epoch 36/75\n",
      "238/238 [==============================] - 12s 50ms/step - loss: 0.1205 - accuracy: 0.9658 - val_loss: 0.1099 - val_accuracy: 0.9672\n",
      "WARNING:tensorflow:Can save best model only with val_acc available, skipping.\n",
      "Epoch 37/75\n",
      "238/238 [==============================] - 13s 53ms/step - loss: 0.1147 - accuracy: 0.9668 - val_loss: 0.1052 - val_accuracy: 0.9699\n",
      "WARNING:tensorflow:Can save best model only with val_acc available, skipping.\n"
     ]
    },
    {
     "name": "stdout",
     "output_type": "stream",
     "text": [
      "Epoch 38/75\n",
      "238/238 [==============================] - 13s 53ms/step - loss: 0.1144 - accuracy: 0.9667 - val_loss: 0.1086 - val_accuracy: 0.9666\n",
      "WARNING:tensorflow:Can save best model only with val_acc available, skipping.\n",
      "Epoch 39/75\n",
      "238/238 [==============================] - 12s 52ms/step - loss: 0.1174 - accuracy: 0.9664 - val_loss: 0.1222 - val_accuracy: 0.9614\n",
      "WARNING:tensorflow:Can save best model only with val_acc available, skipping.\n",
      "Epoch 40/75\n",
      "238/238 [==============================] - 13s 53ms/step - loss: 0.1187 - accuracy: 0.9654 - val_loss: 0.1093 - val_accuracy: 0.9660\n",
      "WARNING:tensorflow:Can save best model only with val_acc available, skipping.\n",
      "Epoch 41/75\n",
      "238/238 [==============================] - 13s 54ms/step - loss: 0.1169 - accuracy: 0.9658 - val_loss: 0.1030 - val_accuracy: 0.9714\n",
      "WARNING:tensorflow:Can save best model only with val_acc available, skipping.\n",
      "Epoch 42/75\n",
      "238/238 [==============================] - 13s 53ms/step - loss: 0.1121 - accuracy: 0.9671 - val_loss: 0.0992 - val_accuracy: 0.9718\n",
      "WARNING:tensorflow:Can save best model only with val_acc available, skipping.\n",
      "Epoch 43/75\n",
      "238/238 [==============================] - 13s 54ms/step - loss: 0.1088 - accuracy: 0.9685 - val_loss: 0.1051 - val_accuracy: 0.9681\n",
      "WARNING:tensorflow:Can save best model only with val_acc available, skipping.\n",
      "Epoch 44/75\n",
      "238/238 [==============================] - 13s 54ms/step - loss: 0.1071 - accuracy: 0.9688 - val_loss: 0.1003 - val_accuracy: 0.9709\n",
      "WARNING:tensorflow:Can save best model only with val_acc available, skipping.\n",
      "Epoch 45/75\n",
      "238/238 [==============================] - 13s 54ms/step - loss: 0.1061 - accuracy: 0.9688 - val_loss: 0.1090 - val_accuracy: 0.9668\n",
      "WARNING:tensorflow:Can save best model only with val_acc available, skipping.\n",
      "Epoch 46/75\n",
      "238/238 [==============================] - 12s 52ms/step - loss: 0.1100 - accuracy: 0.9682 - val_loss: 0.0987 - val_accuracy: 0.9694\n",
      "WARNING:tensorflow:Can save best model only with val_acc available, skipping.\n",
      "Epoch 47/75\n",
      "238/238 [==============================] - 13s 53ms/step - loss: 0.1029 - accuracy: 0.9700 - val_loss: 0.0980 - val_accuracy: 0.9702\n",
      "WARNING:tensorflow:Can save best model only with val_acc available, skipping.\n",
      "Epoch 48/75\n",
      "238/238 [==============================] - 12s 52ms/step - loss: 0.1039 - accuracy: 0.9694 - val_loss: 0.0953 - val_accuracy: 0.9702\n",
      "WARNING:tensorflow:Can save best model only with val_acc available, skipping.\n",
      "Epoch 49/75\n",
      "238/238 [==============================] - 12s 52ms/step - loss: 0.1031 - accuracy: 0.9701 - val_loss: 0.0944 - val_accuracy: 0.9733\n",
      "WARNING:tensorflow:Can save best model only with val_acc available, skipping.\n",
      "Epoch 50/75\n",
      "238/238 [==============================] - 12s 51ms/step - loss: 0.1011 - accuracy: 0.9703 - val_loss: 0.0944 - val_accuracy: 0.9707\n",
      "WARNING:tensorflow:Can save best model only with val_acc available, skipping.\n",
      "Epoch 51/75\n",
      "238/238 [==============================] - 13s 53ms/step - loss: 0.1015 - accuracy: 0.9704 - val_loss: 0.0908 - val_accuracy: 0.9736\n",
      "WARNING:tensorflow:Can save best model only with val_acc available, skipping.\n",
      "Epoch 52/75\n",
      "238/238 [==============================] - 13s 53ms/step - loss: 0.0990 - accuracy: 0.9709 - val_loss: 0.0918 - val_accuracy: 0.9735\n",
      "WARNING:tensorflow:Can save best model only with val_acc available, skipping.\n",
      "Epoch 53/75\n",
      "238/238 [==============================] - 13s 53ms/step - loss: 0.0968 - accuracy: 0.9714 - val_loss: 0.0975 - val_accuracy: 0.9696\n",
      "WARNING:tensorflow:Can save best model only with val_acc available, skipping.\n",
      "Epoch 54/75\n",
      "238/238 [==============================] - 13s 55ms/step - loss: 0.0959 - accuracy: 0.9714 - val_loss: 0.0950 - val_accuracy: 0.9730\n",
      "WARNING:tensorflow:Can save best model only with val_acc available, skipping.\n",
      "Epoch 55/75\n",
      "238/238 [==============================] - 13s 54ms/step - loss: 0.0976 - accuracy: 0.9715 - val_loss: 0.0914 - val_accuracy: 0.9717\n",
      "WARNING:tensorflow:Can save best model only with val_acc available, skipping.\n",
      "Epoch 56/75\n",
      "238/238 [==============================] - 14s 60ms/step - loss: 0.0917 - accuracy: 0.9731 - val_loss: 0.0981 - val_accuracy: 0.9727\n",
      "WARNING:tensorflow:Can save best model only with val_acc available, skipping.\n",
      "Epoch 57/75\n",
      "238/238 [==============================] - 14s 58ms/step - loss: 0.0961 - accuracy: 0.9719 - val_loss: 0.1029 - val_accuracy: 0.9710\n",
      "WARNING:tensorflow:Can save best model only with val_acc available, skipping.\n",
      "Epoch 58/75\n",
      "238/238 [==============================] - 14s 58ms/step - loss: 0.0952 - accuracy: 0.9722 - val_loss: 0.0841 - val_accuracy: 0.9752\n",
      "WARNING:tensorflow:Can save best model only with val_acc available, skipping.\n",
      "Epoch 59/75\n",
      "238/238 [==============================] - 13s 57ms/step - loss: 0.0934 - accuracy: 0.9721 - val_loss: 0.0871 - val_accuracy: 0.9737\n",
      "WARNING:tensorflow:Can save best model only with val_acc available, skipping.\n",
      "Epoch 60/75\n",
      "238/238 [==============================] - 14s 59ms/step - loss: 0.0892 - accuracy: 0.9740 - val_loss: 0.0859 - val_accuracy: 0.9764\n",
      "WARNING:tensorflow:Can save best model only with val_acc available, skipping.\n",
      "Epoch 61/75\n",
      "238/238 [==============================] - 16s 65ms/step - loss: 0.0955 - accuracy: 0.9719 - val_loss: 0.0837 - val_accuracy: 0.9759\n",
      "WARNING:tensorflow:Can save best model only with val_acc available, skipping.\n",
      "Epoch 62/75\n",
      "238/238 [==============================] - 14s 61ms/step - loss: 0.0888 - accuracy: 0.9737 - val_loss: 0.0839 - val_accuracy: 0.9754\n",
      "WARNING:tensorflow:Can save best model only with val_acc available, skipping.\n",
      "Epoch 63/75\n",
      "238/238 [==============================] - 13s 56ms/step - loss: 0.0883 - accuracy: 0.9739 - val_loss: 0.0857 - val_accuracy: 0.9756\n",
      "WARNING:tensorflow:Can save best model only with val_acc available, skipping.\n",
      "Epoch 64/75\n",
      "238/238 [==============================] - 13s 56ms/step - loss: 0.0879 - accuracy: 0.9743 - val_loss: 0.0896 - val_accuracy: 0.9745\n",
      "WARNING:tensorflow:Can save best model only with val_acc available, skipping.\n",
      "Epoch 65/75\n",
      "238/238 [==============================] - 13s 56ms/step - loss: 0.0863 - accuracy: 0.9752 - val_loss: 0.1003 - val_accuracy: 0.9712\n",
      "WARNING:tensorflow:Can save best model only with val_acc available, skipping.\n",
      "Epoch 66/75\n",
      "238/238 [==============================] - 14s 58ms/step - loss: 0.0926 - accuracy: 0.9726 - val_loss: 0.0825 - val_accuracy: 0.9756\n",
      "WARNING:tensorflow:Can save best model only with val_acc available, skipping.\n",
      "Epoch 67/75\n",
      "238/238 [==============================] - 14s 57ms/step - loss: 0.0872 - accuracy: 0.9746 - val_loss: 0.0824 - val_accuracy: 0.9743\n",
      "WARNING:tensorflow:Can save best model only with val_acc available, skipping.\n",
      "Epoch 68/75\n",
      "238/238 [==============================] - 13s 54ms/step - loss: 0.0847 - accuracy: 0.9752 - val_loss: 0.0893 - val_accuracy: 0.9728\n",
      "WARNING:tensorflow:Can save best model only with val_acc available, skipping.\n",
      "Epoch 69/75\n",
      "238/238 [==============================] - 13s 55ms/step - loss: 0.0867 - accuracy: 0.9742 - val_loss: 0.0804 - val_accuracy: 0.9757\n",
      "WARNING:tensorflow:Can save best model only with val_acc available, skipping.\n",
      "Epoch 70/75\n",
      "238/238 [==============================] - 13s 54ms/step - loss: 0.0870 - accuracy: 0.9743 - val_loss: 0.0778 - val_accuracy: 0.9782\n",
      "WARNING:tensorflow:Can save best model only with val_acc available, skipping.\n",
      "Epoch 71/75\n",
      "238/238 [==============================] - 13s 53ms/step - loss: 0.0865 - accuracy: 0.9747 - val_loss: 0.0892 - val_accuracy: 0.9727\n",
      "WARNING:tensorflow:Can save best model only with val_acc available, skipping.\n",
      "Epoch 72/75\n",
      "238/238 [==============================] - 13s 53ms/step - loss: 0.0854 - accuracy: 0.9750 - val_loss: 0.0861 - val_accuracy: 0.9750\n",
      "WARNING:tensorflow:Can save best model only with val_acc available, skipping.\n",
      "Epoch 73/75\n",
      "238/238 [==============================] - 13s 54ms/step - loss: 0.0830 - accuracy: 0.9758 - val_loss: 0.0776 - val_accuracy: 0.9784\n",
      "WARNING:tensorflow:Can save best model only with val_acc available, skipping.\n",
      "Epoch 74/75\n",
      "238/238 [==============================] - 13s 54ms/step - loss: 0.0835 - accuracy: 0.9754 - val_loss: 0.0798 - val_accuracy: 0.9763\n",
      "WARNING:tensorflow:Can save best model only with val_acc available, skipping.\n"
     ]
    },
    {
     "name": "stdout",
     "output_type": "stream",
     "text": [
      "Epoch 75/75\n",
      "238/238 [==============================] - 13s 53ms/step - loss: 0.0831 - accuracy: 0.9755 - val_loss: 0.0801 - val_accuracy: 0.9753\n",
      "WARNING:tensorflow:Can save best model only with val_acc available, skipping.\n"
     ]
    }
   ],
   "source": [
    "history=cnn.fit(X_train, Y_train, epochs=75,verbose=1,batch_size=500,validation_data=(X_test, Y_test),callbacks=[checkpointer])\n"
   ]
  },
  {
   "cell_type": "code",
   "execution_count": 17,
   "id": "c77a0092",
   "metadata": {},
   "outputs": [
    {
     "data": {
      "image/png": "[encoded data removed]",
      "text/plain": [
       "<Figure size 432x288 with 1 Axes>"
      ]
     },
     "metadata": {
      "needs_background": "light"
     },
     "output_type": "display_data"
    }
   ],
   "source": [
    "plt.plot(history.history['accuracy'])\n",
    "plt.plot(history.history['val_accuracy'])\n",
    "plt.title('model accuracy')\n",
    "plt.ylabel('accuracy')\n",
    "plt.xlabel('epoch')\n",
    "plt.legend(['train', 'test'], loc='upper left')\n",
    "plt.show()"
   ]
  },
  {
   "cell_type": "code",
   "execution_count": 18,
   "id": "cd04cd79",
   "metadata": {},
   "outputs": [
    {
     "data": {
      "image/png": "[encoded data removed]",
      "text/plain": [
       "<Figure size 432x288 with 1 Axes>"
      ]
     },
     "metadata": {
      "needs_background": "light"
     },
     "output_type": "display_data"
    }
   ],
   "source": [
    "plt.plot(history.history['loss'])\n",
    "plt.plot(history.history['val_loss'])\n",
    "plt.title('model loss')\n",
    "plt.ylabel('loss')\n",
    "plt.xlabel('epoch')\n",
    "plt.legend(['train', 'test'], loc='upper left')\n",
    "plt.show()"
   ]
  },
  {
   "cell_type": "code",
   "execution_count": 19,
   "id": "3f59846f",
   "metadata": {},
   "outputs": [],
   "source": [
    "cnn.save(\"results/cnn1results/cnn_model.hdf5\")"
   ]
  }
 ],
 "metadata": {
  "kernelspec": {
   "display_name": "Python 3 (ipykernel)",
   "language": "python",
   "name": "python3"
  },
  "language_info": {
   "codemirror_mode": {
    "name": "ipython",
    "version": 3
   },
   "file_extension": ".py",
   "mimetype": "text/x-python",
   "name": "python",
   "nbconvert_exporter": "python",
   "pygments_lexer": "ipython3",
   "version": "3.9.7"
  }
 },
 "nbformat": 4,
 "nbformat_minor": 5
}
